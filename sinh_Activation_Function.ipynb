{
 "cells": [
  {
   "cell_type": "markdown",
   "metadata": {},
   "source": [
    "# Activaton Learning Analysis Using Sigmoid Function"
   ]
  },
  {
   "cell_type": "code",
   "execution_count": 3,
   "metadata": {},
   "outputs": [],
   "source": [
    "import numpy as np\n",
    "import requests, gzip, os, hashlib\n",
    "import matplotlib.pyplot as plt"
   ]
  },
  {
   "cell_type": "code",
   "execution_count": 21,
   "metadata": {},
   "outputs": [],
   "source": [
    "path=\"./mnist-v-8/mnist_data/\""
   ]
  },
  {
   "cell_type": "markdown",
   "metadata": {},
   "source": [
    "## Fetching the MNIST data"
   ]
  },
  {
   "cell_type": "code",
   "execution_count": 22,
   "metadata": {},
   "outputs": [],
   "source": [
    "#fetch data\n",
    "# path='./mnist-v-8/'\n",
    "def fetch(url):\n",
    "    fp = os.path.join(path, hashlib.md5(url.encode('utf-8')).hexdigest())\n",
    "    if os.path.isfile(fp):\n",
    "        with open(fp, \"rb\") as f:\n",
    "            data = f.read()\n",
    "    else:\n",
    "        with open(fp, \"wb\") as f:\n",
    "            data = requests.get(url).content\n",
    "            f.write(data)\n",
    "    return np.frombuffer(gzip.decompress(data), dtype=np.uint8).copy()\n",
    "\n",
    "X = fetch(\"http://yann.lecun.com/exdb/mnist/train-images-idx3-ubyte.gz\")[0x10:].reshape((-1, 28, 28))\n",
    "Y = fetch(\"http://yann.lecun.com/exdb/mnist/train-labels-idx1-ubyte.gz\")[8:]\n",
    "X_test = fetch(\"http://yann.lecun.com/exdb/mnist/t10k-images-idx3-ubyte.gz\")[0x10:].reshape((-1, 28*28))\n",
    "X_test1 = fetch(\"http://yann.lecun.com/exdb/mnist/t10k-images-idx3-ubyte.gz\")[0x10:].reshape((-1, 28,28))\n",
    "Y_test = fetch(\"http://yann.lecun.com/exdb/mnist/t10k-labels-idx1-ubyte.gz\")[8:]"
   ]
  },
  {
   "cell_type": "code",
   "execution_count": 23,
   "metadata": {},
   "outputs": [
    {
     "data": {
      "text/plain": [
       "(28, 28)"
      ]
     },
     "execution_count": 23,
     "metadata": {},
     "output_type": "execute_result"
    },
    {
     "data": {
      "image/png": "[encoded data removed]",
      "text/plain": [
       "<Figure size 432x288 with 1 Axes>"
      ]
     },
     "metadata": {
      "needs_background": "light"
     },
     "output_type": "display_data"
    }
   ],
   "source": [
    "test=X_test1[10]\n",
    "plt.imshow(test)\n",
    "np.shape(test)"
   ]
  },
  {
   "cell_type": "code",
   "execution_count": 24,
   "metadata": {},
   "outputs": [],
   "source": [
    "#Validation split\n",
    "#Xtrain and val are images\n",
    "#Ytrain and val are labels\n",
    "rand=np.arange(60000)\n",
    "np.random.shuffle(rand)\n",
    "train_no=rand[:50000]\n",
    "\n",
    "val_no=np.setdiff1d(rand,train_no)\n",
    "\n",
    "X_train,X_val=X[train_no,:,:],X[val_no,:,:]\n",
    "Y_train,Y_val=Y[train_no],Y[val_no]"
   ]
  },
  {
   "cell_type": "code",
   "execution_count": 25,
   "metadata": {},
   "outputs": [
    {
     "name": "stdout",
     "output_type": "stream",
     "text": [
      "Label of X_val[0] =  5\n"
     ]
    },
    {
     "data": {
      "image/png": "[encoded data removed]",
      "text/plain": [
       "<Figure size 432x288 with 1 Axes>"
      ]
     },
     "metadata": {
      "needs_background": "light"
     },
     "output_type": "display_data"
    }
   ],
   "source": [
    "# X_val\n",
    "plt.imshow(X_val[0])\n",
    "print(\"Label of X_val[0] = \",Y_val[0])"
   ]
  },
  {
   "cell_type": "code",
   "execution_count": 26,
   "metadata": {},
   "outputs": [
    {
     "name": "stdout",
     "output_type": "stream",
     "text": [
      "Label of X_train[0]: 1\n"
     ]
    },
    {
     "data": {
      "image/png": "[encoded data removed]",
      "text/plain": [
       "<Figure size 432x288 with 1 Axes>"
      ]
     },
     "metadata": {
      "needs_background": "light"
     },
     "output_type": "display_data"
    }
   ],
   "source": [
    "# X_train\n",
    "X_train[0]\n",
    "plt.imshow(X_train[0])\n",
    "print(\"Label of X_train[0]:\",Y_train[0])"
   ]
  },
  {
   "cell_type": "code",
   "execution_count": 35,
   "metadata": {},
   "outputs": [],
   "source": [
    "#Sigmoid function\n",
    "def sigmoid(x):\n",
    "    return np.sinh(x)    \n",
    "\n",
    "#derivative of sigmoid\n",
    "def d_sigmoid(x):\n",
    "    return np.cosh(x)"
   ]
  },
  {
   "cell_type": "code",
   "execution_count": 36,
   "metadata": {},
   "outputs": [],
   "source": [
    "#Softmax function for final layer \n",
    "def softmax(x):\n",
    "    exp_element=np.exp(x-x.max())\n",
    "    return exp_element/np.sum(exp_element,axis=0)\n",
    "\n",
    "#derivative of softmax\n",
    "def d_softmax(x):\n",
    "    exp_element=np.exp(x-x.max())\n",
    "    return exp_element/np.sum(exp_element,axis=0)*(1-exp_element/np.sum(exp_element,axis=0))"
   ]
  },
  {
   "cell_type": "code",
   "execution_count": 37,
   "metadata": {},
   "outputs": [],
   "source": [
    "def init(x,y):\n",
    "    layer=np.random.uniform(-1.,1.,size=(x,y))/np.sqrt(x*y)\n",
    "    return layer.astype(np.float32)\n",
    "\n",
    "np.random.seed(42)\n",
    "l1=init(28*28,128)\n",
    "l2=init(128,10)"
   ]
  },
  {
   "cell_type": "code",
   "execution_count": 38,
   "metadata": {},
   "outputs": [
    {
     "data": {
      "text/plain": [
       "array([1, 8, 6, ..., 3, 8, 4], dtype=uint8)"
      ]
     },
     "execution_count": 38,
     "metadata": {},
     "output_type": "execute_result"
    }
   ],
   "source": [
    "Y_train"
   ]
  },
  {
   "cell_type": "code",
   "execution_count": 39,
   "metadata": {},
   "outputs": [
    {
     "data": {
      "text/plain": [
       "array([[8]], dtype=uint8)"
      ]
     },
     "execution_count": 39,
     "metadata": {},
     "output_type": "execute_result"
    }
   ],
   "source": [
    "ex=np.array(Y_train[1]).reshape(1,1)\n",
    "ex"
   ]
  },
  {
   "cell_type": "code",
   "execution_count": 40,
   "metadata": {},
   "outputs": [
    {
     "data": {
      "text/plain": [
       "array([[0., 0., 0., 0., 0., 0., 0., 0., 1., 0.]], dtype=float32)"
      ]
     },
     "execution_count": 40,
     "metadata": {},
     "output_type": "execute_result"
    }
   ],
   "source": [
    "#Output will be in this form for Ytrain[1]=0\n",
    "#example_out= [1,0,0,0,0,0,0,0,0,0]\n",
    "example_out = np.zeros((len(ex),10), np.float32)\n",
    "example_out[range(example_out.shape[0]),ex] = 1\n",
    "example_out"
   ]
  },
  {
   "cell_type": "code",
   "execution_count": 41,
   "metadata": {},
   "outputs": [],
   "source": [
    "#forward and backward pass\n",
    "def forward_backward_pass(x,y):\n",
    "    targets = np.zeros((len(y),10), np.float32)\n",
    "    targets[range(targets.shape[0]),y] = 1\n",
    " \n",
    "    \n",
    "    x_l1=x.dot(l1)\n",
    "    x_sigmoid=sigmoid(x_l1)\n",
    "    x_l2=x_sigmoid.dot(l2)\n",
    "    out=softmax(x_l2)\n",
    "   \n",
    " \n",
    "    error=2*(out-targets)/out.shape[0]*d_softmax(x_l2)\n",
    "    update_l2=x_sigmoid.T@error\n",
    "    \n",
    "    \n",
    "    error=((l2).dot(error.T)).T*d_sigmoid(x_l1)\n",
    "    update_l1=x.T@error\n",
    "\n",
    "    return out,update_l1,update_l2 \n"
   ]
  },
  {
   "cell_type": "code",
   "execution_count": null,
   "metadata": {},
   "outputs": [],
   "source": []
  },
  {
   "cell_type": "code",
   "execution_count": 71,
   "metadata": {},
   "outputs": [
    {
     "name": "stdout",
     "output_type": "stream",
     "text": [
      "For 0th epoch: train accuracy: 0.109 | validation accuracy:0.097 | training loss:28.766\n",
      "For 100th epoch: train accuracy: 0.094 | validation accuracy:0.097 | training loss:27.016\n",
      "For 200th epoch: train accuracy: 0.109 | validation accuracy:0.097 | training loss:26.703\n",
      "For 300th epoch: train accuracy: 0.078 | validation accuracy:0.097 | training loss:27.836\n",
      "For 400th epoch: train accuracy: 0.102 | validation accuracy:0.097 | training loss:27.727\n",
      "For 500th epoch: train accuracy: 0.078 | validation accuracy:0.097 | training loss:26.641\n",
      "For 600th epoch: train accuracy: 0.062 | validation accuracy:0.097 | training loss:29.758\n",
      "For 700th epoch: train accuracy: 0.094 | validation accuracy:0.097 | training loss:31.117\n",
      "For 800th epoch: train accuracy: 0.117 | validation accuracy:0.097 | training loss:30.141\n",
      "For 900th epoch: train accuracy: 0.102 | validation accuracy:0.097 | training loss:28.461\n",
      "For 1000th epoch: train accuracy: 0.109 | validation accuracy:0.097 | training loss:29.867\n",
      "For 1100th epoch: train accuracy: 0.047 | validation accuracy:0.097 | training loss:31.703\n",
      "For 1200th epoch: train accuracy: 0.070 | validation accuracy:0.097 | training loss:30.188\n",
      "For 1300th epoch: train accuracy: 0.094 | validation accuracy:0.097 | training loss:22.688\n",
      "For 1400th epoch: train accuracy: 0.094 | validation accuracy:0.097 | training loss:27.094\n",
      "For 1500th epoch: train accuracy: 0.062 | validation accuracy:0.097 | training loss:29.359\n",
      "For 1600th epoch: train accuracy: 0.094 | validation accuracy:0.097 | training loss:30.211\n",
      "For 1700th epoch: train accuracy: 0.102 | validation accuracy:0.097 | training loss:30.133\n",
      "For 1800th epoch: train accuracy: 0.094 | validation accuracy:0.097 | training loss:29.562\n",
      "For 1900th epoch: train accuracy: 0.102 | validation accuracy:0.097 | training loss:23.266\n",
      "For 2000th epoch: train accuracy: 0.172 | validation accuracy:0.097 | training loss:23.719\n",
      "For 2100th epoch: train accuracy: 0.078 | validation accuracy:0.097 | training loss:29.586\n",
      "For 2200th epoch: train accuracy: 0.109 | validation accuracy:0.097 | training loss:26.180\n",
      "For 2300th epoch: train accuracy: 0.070 | validation accuracy:0.097 | training loss:27.156\n",
      "For 2400th epoch: train accuracy: 0.109 | validation accuracy:0.097 | training loss:27.953\n",
      "For 2500th epoch: train accuracy: 0.125 | validation accuracy:0.097 | training loss:32.922\n",
      "For 2600th epoch: train accuracy: 0.109 | validation accuracy:0.097 | training loss:30.383\n",
      "For 2700th epoch: train accuracy: 0.078 | validation accuracy:0.097 | training loss:31.766\n",
      "For 2800th epoch: train accuracy: 0.102 | validation accuracy:0.097 | training loss:25.711\n",
      "For 2900th epoch: train accuracy: 0.133 | validation accuracy:0.097 | training loss:26.164\n",
      "For 3000th epoch: train accuracy: 0.094 | validation accuracy:0.097 | training loss:30.891\n",
      "For 3100th epoch: train accuracy: 0.109 | validation accuracy:0.097 | training loss:30.141\n",
      "For 3200th epoch: train accuracy: 0.078 | validation accuracy:0.097 | training loss:26.633\n",
      "For 3300th epoch: train accuracy: 0.039 | validation accuracy:0.097 | training loss:24.266\n",
      "For 3400th epoch: train accuracy: 0.102 | validation accuracy:0.097 | training loss:25.086\n",
      "For 3500th epoch: train accuracy: 0.172 | validation accuracy:0.097 | training loss:23.828\n",
      "For 3600th epoch: train accuracy: 0.078 | validation accuracy:0.097 | training loss:29.219\n",
      "For 3700th epoch: train accuracy: 0.086 | validation accuracy:0.097 | training loss:27.117\n",
      "For 3800th epoch: train accuracy: 0.078 | validation accuracy:0.097 | training loss:24.906\n",
      "For 3900th epoch: train accuracy: 0.117 | validation accuracy:0.097 | training loss:30.039\n",
      "For 4000th epoch: train accuracy: 0.078 | validation accuracy:0.097 | training loss:28.906\n",
      "For 4100th epoch: train accuracy: 0.094 | validation accuracy:0.097 | training loss:27.688\n",
      "For 4200th epoch: train accuracy: 0.062 | validation accuracy:0.097 | training loss:28.922\n",
      "For 4300th epoch: train accuracy: 0.109 | validation accuracy:0.097 | training loss:29.867\n",
      "For 4400th epoch: train accuracy: 0.055 | validation accuracy:0.097 | training loss:32.578\n",
      "For 4500th epoch: train accuracy: 0.125 | validation accuracy:0.097 | training loss:27.938\n",
      "For 4600th epoch: train accuracy: 0.094 | validation accuracy:0.097 | training loss:25.297\n",
      "For 4700th epoch: train accuracy: 0.055 | validation accuracy:0.097 | training loss:29.625\n",
      "For 4800th epoch: train accuracy: 0.094 | validation accuracy:0.097 | training loss:29.602\n",
      "For 4900th epoch: train accuracy: 0.125 | validation accuracy:0.097 | training loss:22.156\n",
      "For 5000th epoch: train accuracy: 0.117 | validation accuracy:0.097 | training loss:29.555\n",
      "For 5100th epoch: train accuracy: 0.070 | validation accuracy:0.097 | training loss:31.383\n",
      "For 5200th epoch: train accuracy: 0.094 | validation accuracy:0.097 | training loss:33.031\n",
      "For 5300th epoch: train accuracy: 0.078 | validation accuracy:0.097 | training loss:29.312\n",
      "For 5400th epoch: train accuracy: 0.117 | validation accuracy:0.097 | training loss:26.977\n",
      "For 5500th epoch: train accuracy: 0.086 | validation accuracy:0.097 | training loss:29.961\n",
      "For 5600th epoch: train accuracy: 0.109 | validation accuracy:0.097 | training loss:30.227\n",
      "For 5700th epoch: train accuracy: 0.117 | validation accuracy:0.097 | training loss:28.445\n",
      "For 5800th epoch: train accuracy: 0.148 | validation accuracy:0.097 | training loss:23.586\n",
      "For 5900th epoch: train accuracy: 0.086 | validation accuracy:0.097 | training loss:29.938\n",
      "For 6000th epoch: train accuracy: 0.102 | validation accuracy:0.097 | training loss:23.930\n",
      "For 6100th epoch: train accuracy: 0.102 | validation accuracy:0.097 | training loss:26.062\n",
      "For 6200th epoch: train accuracy: 0.117 | validation accuracy:0.097 | training loss:24.586\n",
      "For 6300th epoch: train accuracy: 0.078 | validation accuracy:0.097 | training loss:26.500\n",
      "For 6400th epoch: train accuracy: 0.109 | validation accuracy:0.097 | training loss:28.773\n",
      "For 6500th epoch: train accuracy: 0.086 | validation accuracy:0.097 | training loss:27.023\n",
      "For 6600th epoch: train accuracy: 0.141 | validation accuracy:0.097 | training loss:26.555\n",
      "For 6700th epoch: train accuracy: 0.086 | validation accuracy:0.097 | training loss:30.289\n",
      "For 6800th epoch: train accuracy: 0.078 | validation accuracy:0.097 | training loss:28.312\n",
      "For 6900th epoch: train accuracy: 0.078 | validation accuracy:0.097 | training loss:26.117\n",
      "For 7000th epoch: train accuracy: 0.125 | validation accuracy:0.097 | training loss:30.141\n",
      "For 7100th epoch: train accuracy: 0.062 | validation accuracy:0.097 | training loss:28.508\n",
      "For 7200th epoch: train accuracy: 0.117 | validation accuracy:0.097 | training loss:26.867\n",
      "For 7300th epoch: train accuracy: 0.078 | validation accuracy:0.097 | training loss:32.250\n",
      "For 7400th epoch: train accuracy: 0.094 | validation accuracy:0.097 | training loss:32.305\n",
      "For 7500th epoch: train accuracy: 0.117 | validation accuracy:0.097 | training loss:29.742\n",
      "For 7600th epoch: train accuracy: 0.125 | validation accuracy:0.097 | training loss:23.812\n",
      "For 7700th epoch: train accuracy: 0.094 | validation accuracy:0.097 | training loss:28.812\n",
      "For 7800th epoch: train accuracy: 0.109 | validation accuracy:0.097 | training loss:27.883\n",
      "For 7900th epoch: train accuracy: 0.094 | validation accuracy:0.097 | training loss:26.453\n",
      "For 8000th epoch: train accuracy: 0.086 | validation accuracy:0.097 | training loss:28.258\n",
      "For 8100th epoch: train accuracy: 0.133 | validation accuracy:0.097 | training loss:26.375\n",
      "For 8200th epoch: train accuracy: 0.117 | validation accuracy:0.097 | training loss:28.219\n",
      "For 8300th epoch: train accuracy: 0.086 | validation accuracy:0.097 | training loss:25.883\n",
      "For 8400th epoch: train accuracy: 0.094 | validation accuracy:0.097 | training loss:27.711\n",
      "For 8500th epoch: train accuracy: 0.086 | validation accuracy:0.097 | training loss:28.328\n",
      "For 8600th epoch: train accuracy: 0.086 | validation accuracy:0.097 | training loss:28.281\n",
      "For 8700th epoch: train accuracy: 0.156 | validation accuracy:0.097 | training loss:26.281\n",
      "For 8800th epoch: train accuracy: 0.141 | validation accuracy:0.097 | training loss:24.891\n",
      "For 8900th epoch: train accuracy: 0.078 | validation accuracy:0.097 | training loss:31.445\n",
      "For 9000th epoch: train accuracy: 0.102 | validation accuracy:0.097 | training loss:30.008\n"
     ]
    },
    {
     "name": "stdout",
     "output_type": "stream",
     "text": [
      "For 9100th epoch: train accuracy: 0.125 | validation accuracy:0.097 | training loss:27.297\n",
      "For 9200th epoch: train accuracy: 0.102 | validation accuracy:0.097 | training loss:27.383\n",
      "For 9300th epoch: train accuracy: 0.078 | validation accuracy:0.097 | training loss:25.508\n",
      "For 9400th epoch: train accuracy: 0.148 | validation accuracy:0.097 | training loss:26.289\n",
      "For 9500th epoch: train accuracy: 0.125 | validation accuracy:0.097 | training loss:28.891\n",
      "For 9600th epoch: train accuracy: 0.102 | validation accuracy:0.097 | training loss:27.320\n",
      "For 9700th epoch: train accuracy: 0.109 | validation accuracy:0.097 | training loss:28.891\n",
      "For 9800th epoch: train accuracy: 0.102 | validation accuracy:0.097 | training loss:26.297\n",
      "For 9900th epoch: train accuracy: 0.094 | validation accuracy:0.097 | training loss:29.938\n"
     ]
    }
   ],
   "source": [
    "epochs=10000\n",
    "lr=0.001\n",
    "batch=128\n",
    "losses,accuracies,val_accuracies=[],[],[]\n",
    "\n",
    "for i in range(epochs):\n",
    "    sample=np.random.randint(0,X_train.shape[0],size=(batch))\n",
    "    x=X_train[sample].reshape((-1,28*28))\n",
    "    y=Y_train[sample]\n",
    " \n",
    "\n",
    "    out,update_l1,update_l2=forward_backward_pass(x,y)\n",
    "  \n",
    "    category=np.argmax(out,axis=1)\n",
    "    accuracy=(category==y).mean()\n",
    "    accuracies.append(accuracy)\n",
    "    \n",
    "    loss=((category-y)**2).mean()\n",
    "    losses.append(loss.item())\n",
    "    \n",
    "    l1=l1-lr*update_l1\n",
    "    l2=l2-lr*update_l2\n",
    "    \n",
    "    if(i%10==0):    \n",
    "        X_val=X_val.reshape((-1,28*28))\n",
    "        val_out=np.argmax(softmax(sigmoid(X_val.dot(l1)).dot(l2)),axis=1)\n",
    "        val_acc=(val_out==Y_val).mean()\n",
    "        val_accuracies.append(val_acc.item())\n",
    "    if(i%100==0): \n",
    "        print(f'For {i}th epoch: train accuracy: {accuracy:.3f} | validation accuracy:{val_acc:.3f} | training loss:{loss:.3f}')\n",
    "        \n",
    "        \n"
   ]
  },
  {
   "cell_type": "markdown",
   "metadata": {},
   "source": [
    "# # Accuraccies plot per epoch"
   ]
  },
  {
   "cell_type": "code",
   "execution_count": 72,
   "metadata": {},
   "outputs": [
    {
     "data": {
      "text/plain": [
       "[<matplotlib.lines.Line2D at 0x7f6561f598b0>]"
      ]
     },
     "execution_count": 72,
     "metadata": {},
     "output_type": "execute_result"
    },
    {
     "data": {
      "image/png": "[encoded data removed]",
      "text/plain": [
       "<Figure size 432x288 with 1 Axes>"
      ]
     },
     "metadata": {
      "needs_background": "light"
     },
     "output_type": "display_data"
    }
   ],
   "source": [
    "plt.title('Training accruracy per epoch')\n",
    "plt.ylim(-0.1, 1.1)\n",
    "plt.plot(accuracies)\n"
   ]
  },
  {
   "cell_type": "markdown",
   "metadata": {},
   "source": [
    "# # validation accuracies per epoch"
   ]
  },
  {
   "cell_type": "code",
   "execution_count": 73,
   "metadata": {},
   "outputs": [
    {
     "data": {
      "text/plain": [
       "[<matplotlib.lines.Line2D at 0x7f6562478af0>]"
      ]
     },
     "execution_count": 73,
     "metadata": {},
     "output_type": "execute_result"
    },
    {
     "data": {
      "image/png": "[encoded data removed]",
      "text/plain": [
       "<Figure size 432x288 with 1 Axes>"
      ]
     },
     "metadata": {
      "needs_background": "light"
     },
     "output_type": "display_data"
    }
   ],
   "source": [
    "plt.title('Validation accruracy per epoch')\n",
    "\n",
    "plt.plot(val_accuracies)"
   ]
  },
  {
   "cell_type": "code",
   "execution_count": 74,
   "metadata": {},
   "outputs": [
    {
     "data": {
      "text/plain": [
       "[<matplotlib.lines.Line2D at 0x7f65623e5190>]"
      ]
     },
     "execution_count": 74,
     "metadata": {},
     "output_type": "execute_result"
    },
    {
     "data": {
      "image/png": "[encoded data removed]",
      "text/plain": [
       "<Figure size 432x288 with 1 Axes>"
      ]
     },
     "metadata": {
      "needs_background": "light"
     },
     "output_type": "display_data"
    }
   ],
   "source": [
    "plt.title('training loss per epoch')\n",
    "\n",
    "plt.plot(losses)"
   ]
  },
  {
   "cell_type": "code",
   "execution_count": 75,
   "metadata": {},
   "outputs": [
    {
     "name": "stdout",
     "output_type": "stream",
     "text": [
      "Test accuracy = 9.80%\n"
     ]
    }
   ],
   "source": [
    "test_out=np.argmax(softmax(sigmoid(X_test.dot(l1)).dot(l2)),axis=1)\n",
    "test_acc=(test_out==Y_test).mean().item()\n",
    "print(f'Test accuracy = {test_acc*100:.2f}%')"
   ]
  },
  {
   "cell_type": "markdown",
   "metadata": {},
   "source": [
    "## Testing Xtest data and real time matrix number"
   ]
  },
  {
   "cell_type": "markdown",
   "metadata": {},
   "source": [
    "### Real time matrix (7) number image"
   ]
  },
  {
   "cell_type": "code",
   "execution_count": 207,
   "metadata": {},
   "outputs": [
    {
     "data": {
      "text/plain": [
       "<matplotlib.image.AxesImage at 0x7fc2fa729f10>"
      ]
     },
     "execution_count": 207,
     "metadata": {},
     "output_type": "execute_result"
    },
    {
     "data": {
      "image/png": "[encoded data removed]",
      "text/plain": [
       "<Figure size 432x288 with 1 Axes>"
      ]
     },
     "metadata": {
      "needs_background": "light"
     },
     "output_type": "display_data"
    }
   ],
   "source": [
    "m = [[0,0,0,0,0,0,0],\n",
    "     [0,10,10,10,10,0,0],\n",
    "     [0,0,0,0,10,0,0],\n",
    "     [0,0,0,0,10,0,0],\n",
    "     [0,0,0,0,10,0,0],\n",
    "     [0,0,0,0,10,0,0],\n",
    "     [0,0,0,0,0,0,0]]\n",
    "\n",
    "m = np.concatenate([np.concatenate([[x]*4 for x in y]*4) for y in m])\n",
    "m=m.reshape(1,-1)\n",
    "plt.title(\"Input test matrix image\")\n",
    "plt.imshow(m.reshape(28,28))\n",
    "\n",
    "# m.shape"
   ]
  },
  {
   "cell_type": "code",
   "execution_count": 208,
   "metadata": {},
   "outputs": [
    {
     "name": "stdout",
     "output_type": "stream",
     "text": [
      "The input test number is classifed as : 7\n"
     ]
    }
   ],
   "source": [
    "x2 = (sigmoid(m.dot(l1)).dot(l2))\n",
    "x3=(np.argmax(x2))\n",
    "# print(x2)\n",
    "print(\"The input test number is classifed as :\",x3)"
   ]
  },
  {
   "cell_type": "markdown",
   "metadata": {},
   "source": [
    "## Testing of Xtest image"
   ]
  },
  {
   "cell_type": "code",
   "execution_count": 210,
   "metadata": {},
   "outputs": [
    {
     "data": {
      "text/plain": [
       "array([4])"
      ]
     },
     "execution_count": 210,
     "metadata": {},
     "output_type": "execute_result"
    },
    {
     "data": {
      "image/png": "[encoded data removed]",
      "text/plain": [
       "<Figure size 432x288 with 1 Axes>"
      ]
     },
     "metadata": {
      "needs_background": "light"
     },
     "output_type": "display_data"
    }
   ],
   "source": [
    "w=X_test1[4]\n",
    "m = np.concatenate([np.concatenate([[x] for x in y]) for y in w])\n",
    "m=m.reshape(1,-1)\n",
    "plt.imshow(m.reshape(28,28))\n",
    "x = np.argmax(sigmoid(m.dot(l1)).dot(l2),axis=1)\n",
    "x"
   ]
  },
  {
   "cell_type": "code",
   "execution_count": 216,
   "metadata": {},
   "outputs": [
    {
     "data": {
      "text/plain": [
       "array([0])"
      ]
     },
     "execution_count": 216,
     "metadata": {},
     "output_type": "execute_result"
    },
    {
     "data": {
      "image/png": "[encoded data removed]",
      "text/plain": [
       "<Figure size 432x288 with 1 Axes>"
      ]
     },
     "metadata": {
      "needs_background": "light"
     },
     "output_type": "display_data"
    }
   ],
   "source": [
    "w=X_test1[10]\n",
    "m = np.concatenate([np.concatenate([[x] for x in y]) for y in w])\n",
    "m=m.reshape(1,-1)\n",
    "plt.imshow(m.reshape(28,28))\n",
    "x = np.argmax(sigmoid(m.dot(l1)).dot(l2),axis=1)\n",
    "x"
   ]
  }
 ],
 "metadata": {
  "kernelspec": {
   "display_name": "Python 3 (ipykernel)",
   "language": "python",
   "name": "python3"
  },
  "language_info": {
   "codemirror_mode": {
    "name": "ipython",
    "version": 3
   },
   "file_extension": ".py",
   "mimetype": "text/x-python",
   "name": "python",
   "nbconvert_exporter": "python",
   "pygments_lexer": "ipython3",
   "version": "3.9.7"
  }
 },
 "nbformat": 4,
 "nbformat_minor": 4
}
