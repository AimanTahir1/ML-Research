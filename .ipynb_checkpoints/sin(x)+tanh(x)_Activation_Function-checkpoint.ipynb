{
 "cells": [
  {
   "cell_type": "markdown",
   "metadata": {},
   "source": [
    "# Activaton Learning Analysis Using Sigmoid Function"
   ]
  },
  {
   "cell_type": "code",
   "execution_count": 143,
   "metadata": {},
   "outputs": [],
   "source": [
    "import numpy as np\n",
    "import requests, gzip, os, hashlib\n",
    "import matplotlib.pyplot as plt\n",
    "from numpy.random import seed\n",
    "seed(1)"
   ]
  },
  {
   "cell_type": "code",
   "execution_count": 144,
   "metadata": {},
   "outputs": [],
   "source": [
    "path=\"./mnist-v-8/mnist_data/\""
   ]
  },
  {
   "cell_type": "markdown",
   "metadata": {},
   "source": [
    "## Fetching the MNIST data"
   ]
  },
  {
   "cell_type": "code",
   "execution_count": 145,
   "metadata": {},
   "outputs": [],
   "source": [
    "#fetch data\n",
    "# path='./mnist-v-8/'\n",
    "def fetch(url):\n",
    "    fp = os.path.join(path, hashlib.md5(url.encode('utf-8')).hexdigest())\n",
    "    if os.path.isfile(fp):\n",
    "        with open(fp, \"rb\") as f:\n",
    "            data = f.read()\n",
    "    else:\n",
    "        with open(fp, \"wb\") as f:\n",
    "            data = requests.get(url).content\n",
    "            f.write(data)\n",
    "    return np.frombuffer(gzip.decompress(data), dtype=np.uint8).copy()\n",
    "\n",
    "X = fetch(\"http://yann.lecun.com/exdb/mnist/train-images-idx3-ubyte.gz\")[0x10:].reshape((-1, 28, 28))\n",
    "Y = fetch(\"http://yann.lecun.com/exdb/mnist/train-labels-idx1-ubyte.gz\")[8:]\n",
    "X_test = fetch(\"http://yann.lecun.com/exdb/mnist/t10k-images-idx3-ubyte.gz\")[0x10:].reshape((-1, 28*28))\n",
    "X_test1 = fetch(\"http://yann.lecun.com/exdb/mnist/t10k-images-idx3-ubyte.gz\")[0x10:].reshape((-1, 28,28))\n",
    "Y_test = fetch(\"http://yann.lecun.com/exdb/mnist/t10k-labels-idx1-ubyte.gz\")[8:]"
   ]
  },
  {
   "cell_type": "code",
   "execution_count": 146,
   "metadata": {},
   "outputs": [
    {
     "data": {
      "text/plain": [
       "(28, 28)"
      ]
     },
     "execution_count": 146,
     "metadata": {},
     "output_type": "execute_result"
    },
    {
     "data": {
      "image/png": "[encoded data removed]",
      "text/plain": [
       "<Figure size 432x288 with 1 Axes>"
      ]
     },
     "metadata": {
      "needs_background": "light"
     },
     "output_type": "display_data"
    }
   ],
   "source": [
    "test=X_test1[10]\n",
    "plt.imshow(test)\n",
    "np.shape(test)"
   ]
  },
  {
   "cell_type": "code",
   "execution_count": 147,
   "metadata": {},
   "outputs": [],
   "source": [
    "#Validation split\n",
    "#Xtrain and val are images\n",
    "#Ytrain and val are labels\n",
    "rand=np.arange(60000)\n",
    "np.random.shuffle(rand)\n",
    "train_no=rand[:50000]\n",
    "\n",
    "val_no=np.setdiff1d(rand,train_no)\n",
    "\n",
    "X_train,X_val=X[train_no,:,:],X[val_no,:,:]\n",
    "Y_train,Y_val=Y[train_no],Y[val_no]"
   ]
  },
  {
   "cell_type": "code",
   "execution_count": 148,
   "metadata": {},
   "outputs": [
    {
     "name": "stdout",
     "output_type": "stream",
     "text": [
      "Label of X_val[0] =  4\n"
     ]
    },
    {
     "data": {
      "image/png": "[encoded data removed]",
      "text/plain": [
       "<Figure size 432x288 with 1 Axes>"
      ]
     },
     "metadata": {
      "needs_background": "light"
     },
     "output_type": "display_data"
    }
   ],
   "source": [
    "# X_val\n",
    "plt.imshow(X_val[0])\n",
    "print(\"Label of X_val[0] = \",Y_val[0])"
   ]
  },
  {
   "cell_type": "code",
   "execution_count": 149,
   "metadata": {},
   "outputs": [
    {
     "name": "stdout",
     "output_type": "stream",
     "text": [
      "Label of X_train[0]: 3\n"
     ]
    },
    {
     "data": {
      "image/png": "[encoded data removed]",
      "text/plain": [
       "<Figure size 432x288 with 1 Axes>"
      ]
     },
     "metadata": {
      "needs_background": "light"
     },
     "output_type": "display_data"
    }
   ],
   "source": [
    "# X_train\n",
    "X_train[0]\n",
    "plt.imshow(X_train[0])\n",
    "print(\"Label of X_train[0]:\",Y_train[0])"
   ]
  },
  {
   "cell_type": "code",
   "execution_count": 150,
   "metadata": {},
   "outputs": [],
   "source": [
    "#Sigmoid function\n",
    "def sigmoid(x):\n",
    "    return np.sin(x)+np.tanh(x)    \n",
    "\n",
    "#derivative of sigmoid\n",
    "def d_sigmoid(x):\n",
    "    return (np.cos(x) + (1/((np.cosh(x))*(np.cosh(x)))))"
   ]
  },
  {
   "cell_type": "code",
   "execution_count": 151,
   "metadata": {},
   "outputs": [],
   "source": [
    "#Softmax function for final layer \n",
    "def softmax(x):\n",
    "    exp_element=np.exp(x-x.max())\n",
    "    return exp_element/np.sum(exp_element,axis=0)\n",
    "\n",
    "#derivative of softmax\n",
    "def d_softmax(x):\n",
    "    exp_element=np.exp(x-x.max())\n",
    "    return exp_element/np.sum(exp_element,axis=0)*(1-exp_element/np.sum(exp_element,axis=0))"
   ]
  },
  {
   "cell_type": "code",
   "execution_count": 152,
   "metadata": {},
   "outputs": [],
   "source": [
    "def init(x,y):\n",
    "    layer=np.random.uniform(-1.,1.,size=(x,y))/np.sqrt(x*y)\n",
    "    return layer.astype(np.float32)\n",
    "\n",
    "np.random.seed(42)\n",
    "l1=init(28*28,128)\n",
    "l2=init(128,10)"
   ]
  },
  {
   "cell_type": "code",
   "execution_count": 153,
   "metadata": {},
   "outputs": [
    {
     "data": {
      "text/plain": [
       "array([3, 2, 7, ..., 2, 3, 3], dtype=uint8)"
      ]
     },
     "execution_count": 153,
     "metadata": {},
     "output_type": "execute_result"
    }
   ],
   "source": [
    "Y_train"
   ]
  },
  {
   "cell_type": "code",
   "execution_count": 154,
   "metadata": {},
   "outputs": [
    {
     "data": {
      "text/plain": [
       "array([[2]], dtype=uint8)"
      ]
     },
     "execution_count": 154,
     "metadata": {},
     "output_type": "execute_result"
    }
   ],
   "source": [
    "ex=np.array(Y_train[1]).reshape(1,1)\n",
    "ex"
   ]
  },
  {
   "cell_type": "code",
   "execution_count": 155,
   "metadata": {},
   "outputs": [
    {
     "data": {
      "text/plain": [
       "array([[0., 0., 1., 0., 0., 0., 0., 0., 0., 0.]], dtype=float32)"
      ]
     },
     "execution_count": 155,
     "metadata": {},
     "output_type": "execute_result"
    }
   ],
   "source": [
    "#Output will be in this form for Ytrain[1]=0\n",
    "#example_out= [1,0,0,0,0,0,0,0,0,0]\n",
    "example_out = np.zeros((len(ex),10), np.float32)\n",
    "example_out[range(example_out.shape[0]),ex] = 1\n",
    "example_out"
   ]
  },
  {
   "cell_type": "code",
   "execution_count": 156,
   "metadata": {},
   "outputs": [],
   "source": [
    "#forward and backward pass\n",
    "def forward_backward_pass(x,y):\n",
    "    targets = np.zeros((len(y),10), np.float32)\n",
    "    targets[range(targets.shape[0]),y] = 1\n",
    " \n",
    "    \n",
    "    x_l1=x.dot(l1)\n",
    "    x_sigmoid=sigmoid(x_l1)\n",
    "    x_l2=x_sigmoid.dot(l2)\n",
    "    out=softmax(x_l2)\n",
    "   \n",
    " \n",
    "    error=2*(out-targets)/out.shape[0]*d_softmax(x_l2)\n",
    "    update_l2=x_sigmoid.T@error\n",
    "    \n",
    "    \n",
    "    error=((l2).dot(error.T)).T*d_sigmoid(x_l1)\n",
    "    update_l1=x.T@error\n",
    "\n",
    "    return out,update_l1,update_l2 \n"
   ]
  },
  {
   "cell_type": "code",
   "execution_count": null,
   "metadata": {},
   "outputs": [],
   "source": []
  },
  {
   "cell_type": "code",
   "execution_count": 157,
   "metadata": {},
   "outputs": [
    {
     "name": "stdout",
     "output_type": "stream",
     "text": [
      "For 0th epoch: train accuracy: 0.078 | validation accuracy:0.081 | training loss:19.562\n",
      "For 100th epoch: train accuracy: 0.344 | validation accuracy:0.399 | training loss:9.805\n",
      "For 200th epoch: train accuracy: 0.586 | validation accuracy:0.563 | training loss:7.414\n",
      "For 300th epoch: train accuracy: 0.594 | validation accuracy:0.649 | training loss:5.477\n",
      "For 400th epoch: train accuracy: 0.719 | validation accuracy:0.703 | training loss:5.898\n",
      "For 500th epoch: train accuracy: 0.750 | validation accuracy:0.734 | training loss:2.977\n",
      "For 600th epoch: train accuracy: 0.727 | validation accuracy:0.760 | training loss:5.352\n",
      "For 700th epoch: train accuracy: 0.812 | validation accuracy:0.784 | training loss:4.414\n",
      "For 800th epoch: train accuracy: 0.781 | validation accuracy:0.795 | training loss:3.203\n",
      "For 900th epoch: train accuracy: 0.812 | validation accuracy:0.804 | training loss:3.328\n",
      "For 1000th epoch: train accuracy: 0.820 | validation accuracy:0.814 | training loss:2.789\n",
      "For 1100th epoch: train accuracy: 0.812 | validation accuracy:0.823 | training loss:3.133\n",
      "For 1200th epoch: train accuracy: 0.883 | validation accuracy:0.827 | training loss:1.688\n",
      "For 1300th epoch: train accuracy: 0.805 | validation accuracy:0.827 | training loss:2.328\n",
      "For 1400th epoch: train accuracy: 0.797 | validation accuracy:0.831 | training loss:3.883\n"
     ]
    }
   ],
   "source": [
    "\n",
    "epochs=1500\n",
    "lr=0.001\n",
    "batch=128\n",
    "losses,accuracies,val_accuracies=[],[],[]\n",
    "\n",
    "for i in range(epochs):\n",
    "    sample=np.random.randint(0,X_train.shape[0],size=(batch))\n",
    "    x=X_train[sample].reshape((-1,28*28))\n",
    "    y=Y_train[sample]\n",
    " \n",
    "\n",
    "    out,update_l1,update_l2=forward_backward_pass(x,y)\n",
    "  \n",
    "    category=np.argmax(out,axis=1)\n",
    "    accuracy=(category==y).mean()\n",
    "    accuracies.append(accuracy)\n",
    "    \n",
    "    loss=((category-y)**2).mean()\n",
    "    losses.append(loss.item())\n",
    "    \n",
    "    l1=l1-lr*update_l1\n",
    "    l2=l2-lr*update_l2\n",
    "    \n",
    "    if(i%10==0):    \n",
    "        X_val=X_val.reshape((-1,28*28))\n",
    "        val_out=np.argmax(softmax(sigmoid(X_val.dot(l1)).dot(l2)),axis=1)\n",
    "        val_acc=(val_out==Y_val).mean()\n",
    "        val_accuracies.append(val_acc.item())\n",
    "    if(i%100==0): \n",
    "        print(f'For {i}th epoch: train accuracy: {accuracy:.3f} | validation accuracy:{val_acc:.3f} | training loss:{loss:.3f}')\n",
    "        \n",
    "        \n"
   ]
  },
  {
   "cell_type": "markdown",
   "metadata": {},
   "source": [
    "# # Accuraccies plot per epoch"
   ]
  },
  {
   "cell_type": "code",
   "execution_count": 158,
   "metadata": {},
   "outputs": [
    {
     "data": {
      "text/plain": [
       "[<matplotlib.lines.Line2D at 0x7fb6003675e0>]"
      ]
     },
     "execution_count": 158,
     "metadata": {},
     "output_type": "execute_result"
    },
    {
     "data": {
      "image/png": "[encoded data removed]",
      "text/plain": [
       "<Figure size 432x288 with 1 Axes>"
      ]
     },
     "metadata": {
      "needs_background": "light"
     },
     "output_type": "display_data"
    }
   ],
   "source": [
    "plt.title('Training accruracy per epoch')\n",
    "plt.ylim(-0.1, 1.1)\n",
    "plt.plot(accuracies)\n"
   ]
  },
  {
   "cell_type": "markdown",
   "metadata": {},
   "source": [
    "# # validation accuracies per epoch"
   ]
  },
  {
   "cell_type": "code",
   "execution_count": 159,
   "metadata": {},
   "outputs": [
    {
     "data": {
      "text/plain": [
       "[<matplotlib.lines.Line2D at 0x7fb6005188e0>]"
      ]
     },
     "execution_count": 159,
     "metadata": {},
     "output_type": "execute_result"
    },
    {
     "data": {
      "image/png": "[encoded data removed]",
      "text/plain": [
       "<Figure size 432x288 with 1 Axes>"
      ]
     },
     "metadata": {
      "needs_background": "light"
     },
     "output_type": "display_data"
    }
   ],
   "source": [
    "plt.title('Validation accruracy per epoch')\n",
    "\n",
    "plt.plot(val_accuracies)"
   ]
  },
  {
   "cell_type": "code",
   "execution_count": 160,
   "metadata": {},
   "outputs": [
    {
     "data": {
      "text/plain": [
       "[<matplotlib.lines.Line2D at 0x7fb600b0c340>]"
      ]
     },
     "execution_count": 160,
     "metadata": {},
     "output_type": "execute_result"
    },
    {
     "data": {
      "image/png": "[encoded data removed]",
      "text/plain": [
       "<Figure size 432x288 with 1 Axes>"
      ]
     },
     "metadata": {
      "needs_background": "light"
     },
     "output_type": "display_data"
    }
   ],
   "source": [
    "plt.title('training loss per epoch')\n",
    "\n",
    "plt.plot(losses)"
   ]
  },
  {
   "cell_type": "code",
   "execution_count": 161,
   "metadata": {},
   "outputs": [
    {
     "name": "stdout",
     "output_type": "stream",
     "text": [
      "Test accuracy = 84.35%\n"
     ]
    }
   ],
   "source": [
    "test_out=np.argmax(softmax(sigmoid(X_test.dot(l1)).dot(l2)),axis=1)\n",
    "test_acc=(test_out==Y_test).mean().item()\n",
    "print(f'Test accuracy = {test_acc*100:.2f}%')"
   ]
  },
  {
   "cell_type": "markdown",
   "metadata": {},
   "source": [
    "## Testing Xtest data and real time matrix number"
   ]
  },
  {
   "cell_type": "markdown",
   "metadata": {},
   "source": [
    "### Real time matrix (7) number image"
   ]
  },
  {
   "cell_type": "code",
   "execution_count": 114,
   "metadata": {},
   "outputs": [
    {
     "data": {
      "text/plain": [
       "<matplotlib.image.AxesImage at 0x7fb60088ceb0>"
      ]
     },
     "execution_count": 114,
     "metadata": {},
     "output_type": "execute_result"
    },
    {
     "data": {
      "image/png": "[encoded data removed]",
      "text/plain": [
       "<Figure size 432x288 with 1 Axes>"
      ]
     },
     "metadata": {
      "needs_background": "light"
     },
     "output_type": "display_data"
    }
   ],
   "source": [
    "m = [[0,0,0,0,0,0,0],\n",
    "     [0,10,10,10,10,0,0],\n",
    "     [0,0,0,0,10,0,0],\n",
    "     [0,0,0,0,10,0,0],\n",
    "     [0,0,0,0,10,0,0],\n",
    "     [0,0,0,0,10,0,0],\n",
    "     [0,0,0,0,0,0,0]]\n",
    "\n",
    "m = np.concatenate([np.concatenate([[x]*4 for x in y]*4) for y in m])\n",
    "m=m.reshape(1,-1)\n",
    "plt.title(\"Input test matrix image\")\n",
    "plt.imshow(m.reshape(28,28))\n",
    "\n",
    "# m.shape"
   ]
  },
  {
   "cell_type": "code",
   "execution_count": 115,
   "metadata": {},
   "outputs": [
    {
     "name": "stdout",
     "output_type": "stream",
     "text": [
      "The input test number is classifed as : 7\n"
     ]
    }
   ],
   "source": [
    "x2 = (sigmoid(m.dot(l1)).dot(l2))\n",
    "x3=(np.argmax(x2))\n",
    "# print(x2)\n",
    "print(\"The input test number is classifed as :\",x3)"
   ]
  },
  {
   "cell_type": "markdown",
   "metadata": {},
   "source": [
    "## Testing of Xtest image"
   ]
  },
  {
   "cell_type": "code",
   "execution_count": 116,
   "metadata": {},
   "outputs": [
    {
     "data": {
      "text/plain": [
       "array([4])"
      ]
     },
     "execution_count": 116,
     "metadata": {},
     "output_type": "execute_result"
    },
    {
     "data": {
      "image/png": "[encoded data removed]",
      "text/plain": [
       "<Figure size 432x288 with 1 Axes>"
      ]
     },
     "metadata": {
      "needs_background": "light"
     },
     "output_type": "display_data"
    }
   ],
   "source": [
    "w=X_test1[4]\n",
    "m = np.concatenate([np.concatenate([[x] for x in y]) for y in w])\n",
    "m=m.reshape(1,-1)\n",
    "plt.imshow(m.reshape(28,28))\n",
    "x = np.argmax(sigmoid(m.dot(l1)).dot(l2),axis=1)\n",
    "x"
   ]
  },
  {
   "cell_type": "code",
   "execution_count": 117,
   "metadata": {},
   "outputs": [
    {
     "data": {
      "text/plain": [
       "array([0])"
      ]
     },
     "execution_count": 117,
     "metadata": {},
     "output_type": "execute_result"
    },
    {
     "data": {
      "image/png": "[encoded data removed]",
      "text/plain": [
       "<Figure size 432x288 with 1 Axes>"
      ]
     },
     "metadata": {
      "needs_background": "light"
     },
     "output_type": "display_data"
    }
   ],
   "source": [
    "w=X_test1[10]\n",
    "m = np.concatenate([np.concatenate([[x] for x in y]) for y in w])\n",
    "m=m.reshape(1,-1)\n",
    "plt.imshow(m.reshape(28,28))\n",
    "x = np.argmax(sigmoid(m.dot(l1)).dot(l2),axis=1)\n",
    "x"
   ]
  },
  {
   "cell_type": "code",
   "execution_count": null,
   "metadata": {},
   "outputs": [],
   "source": []
  },
  {
   "cell_type": "code",
   "execution_count": null,
   "metadata": {},
   "outputs": [],
   "source": []
  },
  {
   "cell_type": "code",
   "execution_count": null,
   "metadata": {},
   "outputs": [],
   "source": []
  }
 ],
 "metadata": {
  "kernelspec": {
   "display_name": "Python 3 (ipykernel)",
   "language": "python",
   "name": "python3"
  },
  "language_info": {
   "codemirror_mode": {
    "name": "ipython",
    "version": 3
   },
   "file_extension": ".py",
   "mimetype": "text/x-python",
   "name": "python",
   "nbconvert_exporter": "python",
   "pygments_lexer": "ipython3",
   "version": "3.9.7"
  }
 },
 "nbformat": 4,
 "nbformat_minor": 4
}
