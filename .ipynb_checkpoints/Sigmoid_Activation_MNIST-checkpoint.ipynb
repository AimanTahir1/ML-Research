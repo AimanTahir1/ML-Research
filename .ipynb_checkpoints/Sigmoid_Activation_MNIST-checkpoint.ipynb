{
 "cells": [
  {
   "cell_type": "markdown",
   "metadata": {},
   "source": [
    "# Activaton Learning Analysis Using Sigmoid Function"
   ]
  },
  {
   "cell_type": "code",
   "execution_count": 1,
   "metadata": {},
   "outputs": [],
   "source": [
    "import numpy as np\n",
    "import requests, gzip, os, hashlib\n",
    "import matplotlib.pyplot as plt"
   ]
  },
  {
   "cell_type": "code",
   "execution_count": 188,
   "metadata": {},
   "outputs": [],
   "source": [
    "path=\"./mnist_data/\""
   ]
  },
  {
   "cell_type": "markdown",
   "metadata": {},
   "source": [
    "## Fetching the MNIST data"
   ]
  },
  {
   "cell_type": "code",
   "execution_count": 189,
   "metadata": {},
   "outputs": [],
   "source": [
    "#fetch data\n",
    "# path='./mnist-v-8/'\n",
    "def fetch(url):\n",
    "    fp = os.path.join(path, hashlib.md5(url.encode('utf-8')).hexdigest())\n",
    "    if os.path.isfile(fp):\n",
    "        with open(fp, \"rb\") as f:\n",
    "            data = f.read()\n",
    "    else:\n",
    "        with open(fp, \"wb\") as f:\n",
    "            data = requests.get(url).content\n",
    "            f.write(data)\n",
    "    return np.frombuffer(gzip.decompress(data), dtype=np.uint8).copy()\n",
    "\n",
    "X = fetch(\"http://yann.lecun.com/exdb/mnist/train-images-idx3-ubyte.gz\")[0x10:].reshape((-1, 28, 28))\n",
    "Y = fetch(\"http://yann.lecun.com/exdb/mnist/train-labels-idx1-ubyte.gz\")[8:]\n",
    "X_test = fetch(\"http://yann.lecun.com/exdb/mnist/t10k-images-idx3-ubyte.gz\")[0x10:].reshape((-1, 28*28))\n",
    "X_test1 = fetch(\"http://yann.lecun.com/exdb/mnist/t10k-images-idx3-ubyte.gz\")[0x10:].reshape((-1, 28,28))\n",
    "Y_test = fetch(\"http://yann.lecun.com/exdb/mnist/t10k-labels-idx1-ubyte.gz\")[8:]"
   ]
  },
  {
   "cell_type": "code",
   "execution_count": 190,
   "metadata": {},
   "outputs": [
    {
     "data": {
      "text/plain": [
       "(28, 28)"
      ]
     },
     "execution_count": 190,
     "metadata": {},
     "output_type": "execute_result"
    },
    {
     "data": {
      "image/png": "[encoded data removed]",
      "text/plain": [
       "<Figure size 432x288 with 1 Axes>"
      ]
     },
     "metadata": {
      "needs_background": "light"
     },
     "output_type": "display_data"
    }
   ],
   "source": [
    "test=X_test1[10]\n",
    "plt.imshow(test)\n",
    "np.shape(test)"
   ]
  },
  {
   "cell_type": "code",
   "execution_count": 191,
   "metadata": {},
   "outputs": [],
   "source": [
    "#Validation split\n",
    "#Xtrain and val are images\n",
    "#Ytrain and val are labels\n",
    "rand=np.arange(60000)\n",
    "np.random.shuffle(rand)\n",
    "train_no=rand[:50000]\n",
    "\n",
    "val_no=np.setdiff1d(rand,train_no)\n",
    "\n",
    "X_train,X_val=X[train_no,:,:],X[val_no,:,:]\n",
    "Y_train,Y_val=Y[train_no],Y[val_no]"
   ]
  },
  {
   "cell_type": "code",
   "execution_count": 192,
   "metadata": {},
   "outputs": [
    {
     "name": "stdout",
     "output_type": "stream",
     "text": [
      "Label of X_val[0] =  1\n"
     ]
    },
    {
     "data": {
      "image/png": "[encoded data removed]",
      "text/plain": [
       "<Figure size 432x288 with 1 Axes>"
      ]
     },
     "metadata": {
      "needs_background": "light"
     },
     "output_type": "display_data"
    }
   ],
   "source": [
    "# X_val\n",
    "plt.imshow(X_val[0])\n",
    "print(\"Label of X_val[0] = \",Y_val[0])"
   ]
  },
  {
   "cell_type": "code",
   "execution_count": 193,
   "metadata": {},
   "outputs": [
    {
     "name": "stdout",
     "output_type": "stream",
     "text": [
      "Label of X_train[0]: 6\n"
     ]
    },
    {
     "data": {
      "image/png": "[encoded data removed]",
      "text/plain": [
       "<Figure size 432x288 with 1 Axes>"
      ]
     },
     "metadata": {
      "needs_background": "light"
     },
     "output_type": "display_data"
    }
   ],
   "source": [
    "# X_train\n",
    "X_train[0]\n",
    "plt.imshow(X_train[0])\n",
    "print(\"Label of X_train[0]:\",Y_train[0])"
   ]
  },
  {
   "cell_type": "code",
   "execution_count": 194,
   "metadata": {},
   "outputs": [],
   "source": [
    "#Sigmoid function\n",
    "def sigmoid(x):\n",
    "    return 1/(np.exp(-x)+1)    \n",
    "\n",
    "#derivative of sigmoid\n",
    "def d_sigmoid(x):\n",
    "    return (np.exp(-x))/((np.exp(-x)+1)**2)"
   ]
  },
  {
   "cell_type": "code",
   "execution_count": 195,
   "metadata": {},
   "outputs": [],
   "source": [
    "#Softmax function for final layer \n",
    "def softmax(x):\n",
    "    exp_element=np.exp(x-x.max())\n",
    "    return exp_element/np.sum(exp_element,axis=0)\n",
    "\n",
    "#derivative of softmax\n",
    "def d_softmax(x):\n",
    "    exp_element=np.exp(x-x.max())\n",
    "    return exp_element/np.sum(exp_element,axis=0)*(1-exp_element/np.sum(exp_element,axis=0))"
   ]
  },
  {
   "cell_type": "code",
   "execution_count": 196,
   "metadata": {},
   "outputs": [],
   "source": [
    "def init(x,y):\n",
    "    layer=np.random.uniform(-1.,1.,size=(x,y))/np.sqrt(x*y)\n",
    "    return layer.astype(np.float32)\n",
    "\n",
    "np.random.seed(42)\n",
    "l1=init(28*28,128)\n",
    "l2=init(128,10)"
   ]
  },
  {
   "cell_type": "code",
   "execution_count": 197,
   "metadata": {},
   "outputs": [
    {
     "data": {
      "text/plain": [
       "array([6, 5, 1, ..., 3, 9, 0], dtype=uint8)"
      ]
     },
     "execution_count": 197,
     "metadata": {},
     "output_type": "execute_result"
    }
   ],
   "source": [
    "Y_train"
   ]
  },
  {
   "cell_type": "code",
   "execution_count": 198,
   "metadata": {},
   "outputs": [
    {
     "data": {
      "text/plain": [
       "array([[5]], dtype=uint8)"
      ]
     },
     "execution_count": 198,
     "metadata": {},
     "output_type": "execute_result"
    }
   ],
   "source": [
    "ex=np.array(Y_train[1]).reshape(1,1)\n",
    "ex"
   ]
  },
  {
   "cell_type": "code",
   "execution_count": 199,
   "metadata": {},
   "outputs": [
    {
     "data": {
      "text/plain": [
       "array([[0., 0., 0., 0., 0., 1., 0., 0., 0., 0.]], dtype=float32)"
      ]
     },
     "execution_count": 199,
     "metadata": {},
     "output_type": "execute_result"
    }
   ],
   "source": [
    "#Output will be in this form for Ytrain[1]=0\n",
    "#example_out= [1,0,0,0,0,0,0,0,0,0]\n",
    "example_out = np.zeros((len(ex),10), np.float32)\n",
    "example_out[range(example_out.shape[0]),ex] = 1\n",
    "example_out"
   ]
  },
  {
   "cell_type": "code",
   "execution_count": 200,
   "metadata": {},
   "outputs": [],
   "source": [
    "#forward and backward pass\n",
    "def forward_backward_pass(x,y):\n",
    "    targets = np.zeros((len(y),10), np.float32)\n",
    "    targets[range(targets.shape[0]),y] = 1\n",
    " \n",
    "    \n",
    "    x_l1=x.dot(l1)\n",
    "    x_sigmoid=sigmoid(x_l1)\n",
    "    x_l2=x_sigmoid.dot(l2)\n",
    "    out=softmax(x_l2)\n",
    "   \n",
    " \n",
    "    error=2*(out-targets)/out.shape[0]*d_softmax(x_l2)\n",
    "    update_l2=x_sigmoid.T@error\n",
    "    \n",
    "    \n",
    "    error=((l2).dot(error.T)).T*d_sigmoid(x_l1)\n",
    "    update_l1=x.T@error\n",
    "\n",
    "    return out,update_l1,update_l2 \n"
   ]
  },
  {
   "cell_type": "code",
   "execution_count": null,
   "metadata": {},
   "outputs": [],
   "source": []
  },
  {
   "cell_type": "code",
   "execution_count": 202,
   "metadata": {},
   "outputs": [
    {
     "name": "stdout",
     "output_type": "stream",
     "text": [
      "For 0th epoch: train accuracy: 0.070 | validation accuracy:0.067 | training loss:16.492\n",
      "For 100th epoch: train accuracy: 0.188 | validation accuracy:0.224 | training loss:13.008\n",
      "For 200th epoch: train accuracy: 0.328 | validation accuracy:0.416 | training loss:12.516\n",
      "For 300th epoch: train accuracy: 0.562 | validation accuracy:0.537 | training loss:5.664\n",
      "For 400th epoch: train accuracy: 0.625 | validation accuracy:0.610 | training loss:5.836\n",
      "For 500th epoch: train accuracy: 0.625 | validation accuracy:0.656 | training loss:4.344\n",
      "For 600th epoch: train accuracy: 0.742 | validation accuracy:0.687 | training loss:4.539\n",
      "For 700th epoch: train accuracy: 0.672 | validation accuracy:0.707 | training loss:6.672\n",
      "For 800th epoch: train accuracy: 0.734 | validation accuracy:0.724 | training loss:4.398\n",
      "For 900th epoch: train accuracy: 0.805 | validation accuracy:0.735 | training loss:3.172\n",
      "For 1000th epoch: train accuracy: 0.750 | validation accuracy:0.743 | training loss:5.016\n",
      "For 1100th epoch: train accuracy: 0.703 | validation accuracy:0.749 | training loss:5.227\n",
      "For 1200th epoch: train accuracy: 0.695 | validation accuracy:0.755 | training loss:6.000\n",
      "For 1300th epoch: train accuracy: 0.789 | validation accuracy:0.759 | training loss:4.430\n",
      "For 1400th epoch: train accuracy: 0.781 | validation accuracy:0.763 | training loss:3.586\n",
      "For 1500th epoch: train accuracy: 0.719 | validation accuracy:0.768 | training loss:5.781\n",
      "For 1600th epoch: train accuracy: 0.789 | validation accuracy:0.770 | training loss:4.945\n",
      "For 1700th epoch: train accuracy: 0.797 | validation accuracy:0.771 | training loss:2.867\n",
      "For 1800th epoch: train accuracy: 0.836 | validation accuracy:0.774 | training loss:2.531\n",
      "For 1900th epoch: train accuracy: 0.797 | validation accuracy:0.777 | training loss:3.344\n",
      "For 2000th epoch: train accuracy: 0.766 | validation accuracy:0.779 | training loss:4.398\n",
      "For 2100th epoch: train accuracy: 0.750 | validation accuracy:0.780 | training loss:4.219\n",
      "For 2200th epoch: train accuracy: 0.836 | validation accuracy:0.783 | training loss:3.016\n",
      "For 2300th epoch: train accuracy: 0.844 | validation accuracy:0.784 | training loss:2.344\n",
      "For 2400th epoch: train accuracy: 0.844 | validation accuracy:0.786 | training loss:2.289\n",
      "For 2500th epoch: train accuracy: 0.805 | validation accuracy:0.787 | training loss:3.883\n",
      "For 2600th epoch: train accuracy: 0.820 | validation accuracy:0.790 | training loss:2.773\n",
      "For 2700th epoch: train accuracy: 0.703 | validation accuracy:0.791 | training loss:6.266\n",
      "For 2800th epoch: train accuracy: 0.797 | validation accuracy:0.792 | training loss:3.703\n",
      "For 2900th epoch: train accuracy: 0.773 | validation accuracy:0.794 | training loss:4.367\n",
      "For 3000th epoch: train accuracy: 0.820 | validation accuracy:0.794 | training loss:4.477\n",
      "For 3100th epoch: train accuracy: 0.805 | validation accuracy:0.796 | training loss:3.227\n",
      "For 3200th epoch: train accuracy: 0.789 | validation accuracy:0.798 | training loss:4.023\n",
      "For 3300th epoch: train accuracy: 0.797 | validation accuracy:0.800 | training loss:3.398\n",
      "For 3400th epoch: train accuracy: 0.875 | validation accuracy:0.801 | training loss:2.367\n",
      "For 3500th epoch: train accuracy: 0.734 | validation accuracy:0.802 | training loss:5.641\n",
      "For 3600th epoch: train accuracy: 0.836 | validation accuracy:0.804 | training loss:2.766\n",
      "For 3700th epoch: train accuracy: 0.797 | validation accuracy:0.804 | training loss:3.359\n",
      "For 3800th epoch: train accuracy: 0.773 | validation accuracy:0.805 | training loss:3.672\n",
      "For 3900th epoch: train accuracy: 0.852 | validation accuracy:0.806 | training loss:2.797\n",
      "For 4000th epoch: train accuracy: 0.766 | validation accuracy:0.806 | training loss:3.875\n",
      "For 4100th epoch: train accuracy: 0.805 | validation accuracy:0.807 | training loss:3.062\n",
      "For 4200th epoch: train accuracy: 0.812 | validation accuracy:0.807 | training loss:3.750\n",
      "For 4300th epoch: train accuracy: 0.820 | validation accuracy:0.808 | training loss:2.156\n",
      "For 4400th epoch: train accuracy: 0.828 | validation accuracy:0.810 | training loss:2.977\n",
      "For 4500th epoch: train accuracy: 0.820 | validation accuracy:0.811 | training loss:3.633\n",
      "For 4600th epoch: train accuracy: 0.828 | validation accuracy:0.812 | training loss:2.836\n",
      "For 4700th epoch: train accuracy: 0.852 | validation accuracy:0.812 | training loss:3.227\n",
      "For 4800th epoch: train accuracy: 0.727 | validation accuracy:0.813 | training loss:5.734\n",
      "For 4900th epoch: train accuracy: 0.828 | validation accuracy:0.814 | training loss:4.578\n",
      "For 5000th epoch: train accuracy: 0.812 | validation accuracy:0.815 | training loss:3.344\n",
      "For 5100th epoch: train accuracy: 0.852 | validation accuracy:0.816 | training loss:2.875\n",
      "For 5200th epoch: train accuracy: 0.812 | validation accuracy:0.816 | training loss:2.867\n",
      "For 5300th epoch: train accuracy: 0.812 | validation accuracy:0.816 | training loss:2.594\n",
      "For 5400th epoch: train accuracy: 0.867 | validation accuracy:0.817 | training loss:1.883\n",
      "For 5500th epoch: train accuracy: 0.750 | validation accuracy:0.817 | training loss:3.570\n",
      "For 5600th epoch: train accuracy: 0.844 | validation accuracy:0.817 | training loss:3.336\n",
      "For 5700th epoch: train accuracy: 0.828 | validation accuracy:0.817 | training loss:2.469\n",
      "For 5800th epoch: train accuracy: 0.781 | validation accuracy:0.818 | training loss:4.398\n",
      "For 5900th epoch: train accuracy: 0.812 | validation accuracy:0.817 | training loss:4.000\n",
      "For 6000th epoch: train accuracy: 0.797 | validation accuracy:0.818 | training loss:3.234\n",
      "For 6100th epoch: train accuracy: 0.766 | validation accuracy:0.819 | training loss:4.344\n",
      "For 6200th epoch: train accuracy: 0.844 | validation accuracy:0.819 | training loss:2.023\n",
      "For 6300th epoch: train accuracy: 0.852 | validation accuracy:0.819 | training loss:3.203\n",
      "For 6400th epoch: train accuracy: 0.805 | validation accuracy:0.819 | training loss:2.336\n",
      "For 6500th epoch: train accuracy: 0.898 | validation accuracy:0.818 | training loss:1.164\n",
      "For 6600th epoch: train accuracy: 0.812 | validation accuracy:0.818 | training loss:3.656\n",
      "For 6700th epoch: train accuracy: 0.867 | validation accuracy:0.817 | training loss:2.562\n",
      "For 6800th epoch: train accuracy: 0.742 | validation accuracy:0.817 | training loss:4.945\n",
      "For 6900th epoch: train accuracy: 0.805 | validation accuracy:0.817 | training loss:2.898\n",
      "For 7000th epoch: train accuracy: 0.844 | validation accuracy:0.817 | training loss:2.398\n",
      "For 7100th epoch: train accuracy: 0.781 | validation accuracy:0.818 | training loss:4.867\n",
      "For 7200th epoch: train accuracy: 0.875 | validation accuracy:0.818 | training loss:1.688\n",
      "For 7300th epoch: train accuracy: 0.820 | validation accuracy:0.818 | training loss:4.078\n",
      "For 7400th epoch: train accuracy: 0.828 | validation accuracy:0.818 | training loss:3.086\n",
      "For 7500th epoch: train accuracy: 0.758 | validation accuracy:0.818 | training loss:4.547\n",
      "For 7600th epoch: train accuracy: 0.805 | validation accuracy:0.818 | training loss:3.906\n",
      "For 7700th epoch: train accuracy: 0.859 | validation accuracy:0.818 | training loss:2.312\n",
      "For 7800th epoch: train accuracy: 0.844 | validation accuracy:0.819 | training loss:2.328\n",
      "For 7900th epoch: train accuracy: 0.758 | validation accuracy:0.819 | training loss:4.883\n",
      "For 8000th epoch: train accuracy: 0.914 | validation accuracy:0.819 | training loss:1.312\n",
      "For 8100th epoch: train accuracy: 0.812 | validation accuracy:0.819 | training loss:4.750\n",
      "For 8200th epoch: train accuracy: 0.891 | validation accuracy:0.819 | training loss:1.641\n",
      "For 8300th epoch: train accuracy: 0.820 | validation accuracy:0.820 | training loss:3.266\n",
      "For 8400th epoch: train accuracy: 0.805 | validation accuracy:0.820 | training loss:4.938\n",
      "For 8500th epoch: train accuracy: 0.828 | validation accuracy:0.820 | training loss:3.414\n",
      "For 8600th epoch: train accuracy: 0.844 | validation accuracy:0.820 | training loss:2.898\n",
      "For 8700th epoch: train accuracy: 0.828 | validation accuracy:0.820 | training loss:1.953\n",
      "For 8800th epoch: train accuracy: 0.789 | validation accuracy:0.821 | training loss:4.844\n",
      "For 8900th epoch: train accuracy: 0.789 | validation accuracy:0.820 | training loss:2.789\n",
      "For 9000th epoch: train accuracy: 0.781 | validation accuracy:0.821 | training loss:4.422\n",
      "For 9100th epoch: train accuracy: 0.812 | validation accuracy:0.821 | training loss:2.703\n"
     ]
    },
    {
     "name": "stdout",
     "output_type": "stream",
     "text": [
      "For 9200th epoch: train accuracy: 0.797 | validation accuracy:0.820 | training loss:4.367\n",
      "For 9300th epoch: train accuracy: 0.797 | validation accuracy:0.820 | training loss:3.273\n",
      "For 9400th epoch: train accuracy: 0.836 | validation accuracy:0.820 | training loss:3.891\n",
      "For 9500th epoch: train accuracy: 0.750 | validation accuracy:0.820 | training loss:5.438\n",
      "For 9600th epoch: train accuracy: 0.852 | validation accuracy:0.821 | training loss:2.828\n",
      "For 9700th epoch: train accuracy: 0.867 | validation accuracy:0.821 | training loss:1.766\n",
      "For 9800th epoch: train accuracy: 0.797 | validation accuracy:0.820 | training loss:4.125\n",
      "For 9900th epoch: train accuracy: 0.773 | validation accuracy:0.820 | training loss:5.266\n"
     ]
    }
   ],
   "source": [
    "epochs=10000\n",
    "lr=0.001\n",
    "batch=128\n",
    "\n",
    "losses,accuracies,val_accuracies=[],[],[]\n",
    "\n",
    "for i in range(epochs):\n",
    "    sample=np.random.randint(0,X_train.shape[0],size=(batch))\n",
    "    x=X_train[sample].reshape((-1,28*28))\n",
    "    y=Y_train[sample]\n",
    " \n",
    "\n",
    "    out,update_l1,update_l2=forward_backward_pass(x,y)\n",
    "  \n",
    "    category=np.argmax(out,axis=1)\n",
    "    accuracy=(category==y).mean()\n",
    "    accuracies.append(accuracy)\n",
    "    \n",
    "    loss=((category-y)**2).mean()\n",
    "    losses.append(loss.item())\n",
    "    \n",
    "    l1=l1-lr*update_l1\n",
    "    l2=l2-lr*update_l2\n",
    "    \n",
    "    if(i%20==0):    \n",
    "        X_val=X_val.reshape((-1,28*28))\n",
    "        val_out=np.argmax(softmax(sigmoid(X_val.dot(l1)).dot(l2)),axis=1)\n",
    "        val_acc=(val_out==Y_val).mean()\n",
    "        val_accuracies.append(val_acc.item())\n",
    "    if(i%100==0): \n",
    "        print(f'For {i}th epoch: train accuracy: {accuracy:.3f} | validation accuracy:{val_acc:.3f} | training loss:{loss:.3f}')\n",
    "        \n",
    "        \n"
   ]
  },
  {
   "cell_type": "markdown",
   "metadata": {},
   "source": [
    "# # Accuraccies plot per epoch"
   ]
  },
  {
   "cell_type": "code",
   "execution_count": 203,
   "metadata": {},
   "outputs": [
    {
     "data": {
      "text/plain": [
       "[<matplotlib.lines.Line2D at 0x7fc2fa7fe4c0>]"
      ]
     },
     "execution_count": 203,
     "metadata": {},
     "output_type": "execute_result"
    },
    {
     "data": {
      "image/png": "[encoded data removed]",
      "text/plain": [
       "<Figure size 432x288 with 1 Axes>"
      ]
     },
     "metadata": {
      "needs_background": "light"
     },
     "output_type": "display_data"
    }
   ],
   "source": [
    "plt.title('Training accruracy per epoch')\n",
    "plt.ylim(-0.1, 1.1)\n",
    "plt.plot(accuracies)\n"
   ]
  },
  {
   "cell_type": "markdown",
   "metadata": {},
   "source": [
    "# # validation accuracies per epoch"
   ]
  },
  {
   "cell_type": "code",
   "execution_count": 204,
   "metadata": {},
   "outputs": [
    {
     "data": {
      "text/plain": [
       "[<matplotlib.lines.Line2D at 0x7fc2fa7d9ca0>]"
      ]
     },
     "execution_count": 204,
     "metadata": {},
     "output_type": "execute_result"
    },
    {
     "data": {
      "image/png": "[encoded data removed]",
      "text/plain": [
       "<Figure size 432x288 with 1 Axes>"
      ]
     },
     "metadata": {
      "needs_background": "light"
     },
     "output_type": "display_data"
    }
   ],
   "source": [
    "plt.title('Validation accruracy per epoch')\n",
    "\n",
    "plt.plot(val_accuracies)"
   ]
  },
  {
   "cell_type": "code",
   "execution_count": 205,
   "metadata": {},
   "outputs": [
    {
     "data": {
      "text/plain": [
       "[<matplotlib.lines.Line2D at 0x7fc2fa73feb0>]"
      ]
     },
     "execution_count": 205,
     "metadata": {},
     "output_type": "execute_result"
    },
    {
     "data": {
      "image/png": "[encoded data removed]",
      "text/plain": [
       "<Figure size 432x288 with 1 Axes>"
      ]
     },
     "metadata": {
      "needs_background": "light"
     },
     "output_type": "display_data"
    }
   ],
   "source": [
    "plt.title('training loss per epoch')\n",
    "\n",
    "plt.plot(losses)"
   ]
  },
  {
   "cell_type": "code",
   "execution_count": 206,
   "metadata": {},
   "outputs": [
    {
     "name": "stdout",
     "output_type": "stream",
     "text": [
      "Test accuracy = 83.70%\n"
     ]
    }
   ],
   "source": [
    "test_out=np.argmax(softmax(sigmoid(X_test.dot(l1)).dot(l2)),axis=1)\n",
    "test_acc=(test_out==Y_test).mean().item()\n",
    "print(f'Test accuracy = {test_acc*100:.2f}%')"
   ]
  },
  {
   "cell_type": "markdown",
   "metadata": {},
   "source": [
    "## Testing Xtest data and real time matrix number"
   ]
  },
  {
   "cell_type": "markdown",
   "metadata": {},
   "source": [
    "### Real time matrix (7) number image"
   ]
  },
  {
   "cell_type": "code",
   "execution_count": 207,
   "metadata": {},
   "outputs": [
    {
     "data": {
      "text/plain": [
       "<matplotlib.image.AxesImage at 0x7fc2fa729f10>"
      ]
     },
     "execution_count": 207,
     "metadata": {},
     "output_type": "execute_result"
    },
    {
     "data": {
      "image/png": "[encoded data removed]",
      "text/plain": [
       "<Figure size 432x288 with 1 Axes>"
      ]
     },
     "metadata": {
      "needs_background": "light"
     },
     "output_type": "display_data"
    }
   ],
   "source": [
    "m = [[0,0,0,0,0,0,0],\n",
    "     [0,10,10,10,10,0,0],\n",
    "     [0,0,0,0,10,0,0],\n",
    "     [0,0,0,0,10,0,0],\n",
    "     [0,0,0,0,10,0,0],\n",
    "     [0,0,0,0,10,0,0],\n",
    "     [0,0,0,0,0,0,0]]\n",
    "\n",
    "m = np.concatenate([np.concatenate([[x]*4 for x in y]*4) for y in m])\n",
    "m=m.reshape(1,-1)\n",
    "plt.title(\"Input test matrix image\")\n",
    "plt.imshow(m.reshape(28,28))\n",
    "\n",
    "# m.shape"
   ]
  },
  {
   "cell_type": "code",
   "execution_count": 208,
   "metadata": {},
   "outputs": [
    {
     "name": "stdout",
     "output_type": "stream",
     "text": [
      "The input test number is classifed as : 7\n"
     ]
    }
   ],
   "source": [
    "x2 = (sigmoid(m.dot(l1)).dot(l2))\n",
    "x3=(np.argmax(x2))\n",
    "# print(x2)\n",
    "print(\"The input test number is classifed as :\",x3)"
   ]
  },
  {
   "cell_type": "markdown",
   "metadata": {},
   "source": [
    "## Testing of Xtest image"
   ]
  },
  {
   "cell_type": "code",
   "execution_count": 210,
   "metadata": {},
   "outputs": [
    {
     "data": {
      "text/plain": [
       "array([4])"
      ]
     },
     "execution_count": 210,
     "metadata": {},
     "output_type": "execute_result"
    },
    {
     "data": {
      "image/png": "[encoded data removed]",
      "text/plain": [
       "<Figure size 432x288 with 1 Axes>"
      ]
     },
     "metadata": {
      "needs_background": "light"
     },
     "output_type": "display_data"
    }
   ],
   "source": [
    "w=X_test1[4]\n",
    "m = np.concatenate([np.concatenate([[x] for x in y]) for y in w])\n",
    "m=m.reshape(1,-1)\n",
    "plt.imshow(m.reshape(28,28))\n",
    "x = np.argmax(sigmoid(m.dot(l1)).dot(l2),axis=1)\n",
    "x"
   ]
  },
  {
   "cell_type": "code",
   "execution_count": 216,
   "metadata": {},
   "outputs": [
    {
     "data": {
      "text/plain": [
       "array([0])"
      ]
     },
     "execution_count": 216,
     "metadata": {},
     "output_type": "execute_result"
    },
    {
     "data": {
      "image/png": "[encoded data removed]",
      "text/plain": [
       "<Figure size 432x288 with 1 Axes>"
      ]
     },
     "metadata": {
      "needs_background": "light"
     },
     "output_type": "display_data"
    }
   ],
   "source": [
    "w=X_test1[10]\n",
    "m = np.concatenate([np.concatenate([[x] for x in y]) for y in w])\n",
    "m=m.reshape(1,-1)\n",
    "plt.imshow(m.reshape(28,28))\n",
    "x = np.argmax(sigmoid(m.dot(l1)).dot(l2),axis=1)\n",
    "x"
   ]
  }
 ],
 "metadata": {
  "kernelspec": {
   "display_name": "Python 3 (ipykernel)",
   "language": "python",
   "name": "python3"
  },
  "language_info": {
   "codemirror_mode": {
    "name": "ipython",
    "version": 3
   },
   "file_extension": ".py",
   "mimetype": "text/x-python",
   "name": "python",
   "nbconvert_exporter": "python",
   "pygments_lexer": "ipython3",
   "version": "3.9.7"
  }
 },
 "nbformat": 4,
 "nbformat_minor": 4
}
