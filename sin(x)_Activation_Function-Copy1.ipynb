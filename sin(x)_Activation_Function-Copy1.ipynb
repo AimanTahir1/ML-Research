{
 "cells": [
  {
   "cell_type": "markdown",
   "metadata": {},
   "source": [
    "# Activaton Learning Analysis Using Sin Function"
   ]
  },
  {
   "cell_type": "code",
   "execution_count": 123,
   "metadata": {},
   "outputs": [],
   "source": [
    "import numpy as np\n",
    "import requests, gzip, os, hashlib\n",
    "import matplotlib.pyplot as plt\n",
    "from numpy.random import seed\n",
    "seed(1)"
   ]
  },
  {
   "cell_type": "code",
   "execution_count": 124,
   "metadata": {},
   "outputs": [],
   "source": [
    "path=\"./mnist-v-8/mnist_data/\""
   ]
  },
  {
   "cell_type": "markdown",
   "metadata": {},
   "source": [
    "## Fetching the MNIST data"
   ]
  },
  {
   "cell_type": "code",
   "execution_count": 125,
   "metadata": {},
   "outputs": [],
   "source": [
    "#fetch data\n",
    "# path='./mnist-v-8/'\n",
    "def fetch(url):\n",
    "    fp = os.path.join(path, hashlib.md5(url.encode('utf-8')).hexdigest())\n",
    "    if os.path.isfile(fp):\n",
    "        with open(fp, \"rb\") as f:\n",
    "            data = f.read()\n",
    "    else:\n",
    "        with open(fp, \"wb\") as f:\n",
    "            data = requests.get(url).content\n",
    "            f.write(data)\n",
    "    return np.frombuffer(gzip.decompress(data), dtype=np.uint8).copy()\n",
    "\n",
    "X = fetch(\"http://yann.lecun.com/exdb/mnist/train-images-idx3-ubyte.gz\")[0x10:].reshape((-1, 28, 28))\n",
    "Y = fetch(\"http://yann.lecun.com/exdb/mnist/train-labels-idx1-ubyte.gz\")[8:]\n",
    "X_test = fetch(\"http://yann.lecun.com/exdb/mnist/t10k-images-idx3-ubyte.gz\")[0x10:].reshape((-1, 28*28))\n",
    "X_test1 = fetch(\"http://yann.lecun.com/exdb/mnist/t10k-images-idx3-ubyte.gz\")[0x10:].reshape((-1, 28,28))\n",
    "Y_test = fetch(\"http://yann.lecun.com/exdb/mnist/t10k-labels-idx1-ubyte.gz\")[8:]"
   ]
  },
  {
   "cell_type": "code",
   "execution_count": 126,
   "metadata": {},
   "outputs": [
    {
     "data": {
      "text/plain": [
       "(28, 28)"
      ]
     },
     "execution_count": 126,
     "metadata": {},
     "output_type": "execute_result"
    },
    {
     "data": {
      "image/png": "[encoded data removed]",
      "text/plain": [
       "<Figure size 432x288 with 1 Axes>"
      ]
     },
     "metadata": {
      "needs_background": "light"
     },
     "output_type": "display_data"
    }
   ],
   "source": [
    "test=X_test1[10]\n",
    "plt.imshow(test)\n",
    "np.shape(test)"
   ]
  },
  {
   "cell_type": "code",
   "execution_count": 127,
   "metadata": {},
   "outputs": [],
   "source": [
    "#Validation split\n",
    "#Xtrain and val are images\n",
    "#Ytrain and val are labels\n",
    "rand=np.arange(60000)\n",
    "np.random.shuffle(rand)\n",
    "train_no=rand[:50000]\n",
    "\n",
    "val_no=np.setdiff1d(rand,train_no)\n",
    "\n",
    "X_train,X_val=X[train_no,:,:],X[val_no,:,:]\n",
    "Y_train,Y_val=Y[train_no],Y[val_no]"
   ]
  },
  {
   "cell_type": "code",
   "execution_count": 128,
   "metadata": {},
   "outputs": [
    {
     "name": "stdout",
     "output_type": "stream",
     "text": [
      "Label of X_val[0] =  4\n"
     ]
    },
    {
     "data": {
      "image/png": "[encoded data removed]",
      "text/plain": [
       "<Figure size 432x288 with 1 Axes>"
      ]
     },
     "metadata": {
      "needs_background": "light"
     },
     "output_type": "display_data"
    }
   ],
   "source": [
    "# X_val\n",
    "plt.imshow(X_val[0])\n",
    "print(\"Label of X_val[0] = \",Y_val[0])"
   ]
  },
  {
   "cell_type": "code",
   "execution_count": 129,
   "metadata": {},
   "outputs": [
    {
     "name": "stdout",
     "output_type": "stream",
     "text": [
      "Label of X_train[0]: 3\n"
     ]
    },
    {
     "data": {
      "image/png": "[encoded data removed]",
      "text/plain": [
       "<Figure size 432x288 with 1 Axes>"
      ]
     },
     "metadata": {
      "needs_background": "light"
     },
     "output_type": "display_data"
    }
   ],
   "source": [
    "# X_train\n",
    "X_train[0]\n",
    "plt.imshow(X_train[0])\n",
    "print(\"Label of X_train[0]:\",Y_train[0])"
   ]
  },
  {
   "cell_type": "code",
   "execution_count": 130,
   "metadata": {},
   "outputs": [],
   "source": [
    "#Sigmoid function\n",
    "def sigmoid(x):\n",
    "    return np.sin(x)   \n",
    "\n",
    "#derivative of sigmoid\n",
    "def d_sigmoid(x):\n",
    "    return (np.cos(x) )"
   ]
  },
  {
   "cell_type": "code",
   "execution_count": 131,
   "metadata": {},
   "outputs": [],
   "source": [
    "#Softmax function for final layer \n",
    "def softmax(x):\n",
    "    exp_element=np.exp(x-x.max())\n",
    "    return exp_element/np.sum(exp_element,axis=0)\n",
    "\n",
    "#derivative of softmax\n",
    "def d_softmax(x):\n",
    "    exp_element=np.exp(x-x.max())\n",
    "    return exp_element/np.sum(exp_element,axis=0)*(1-exp_element/np.sum(exp_element,axis=0))"
   ]
  },
  {
   "cell_type": "code",
   "execution_count": 132,
   "metadata": {},
   "outputs": [],
   "source": [
    "def init(x,y):\n",
    "    layer=np.random.uniform(-1.,1.,size=(x,y))/np.sqrt(x*y)\n",
    "    return layer.astype(np.float32)\n",
    "\n",
    "np.random.seed(42)\n",
    "l1=init(28*28,128)\n",
    "l2=init(128,10)"
   ]
  },
  {
   "cell_type": "code",
   "execution_count": 133,
   "metadata": {},
   "outputs": [
    {
     "data": {
      "text/plain": [
       "array([3, 2, 7, ..., 2, 3, 3], dtype=uint8)"
      ]
     },
     "execution_count": 133,
     "metadata": {},
     "output_type": "execute_result"
    }
   ],
   "source": [
    "Y_train"
   ]
  },
  {
   "cell_type": "code",
   "execution_count": 134,
   "metadata": {},
   "outputs": [
    {
     "data": {
      "text/plain": [
       "array([[2]], dtype=uint8)"
      ]
     },
     "execution_count": 134,
     "metadata": {},
     "output_type": "execute_result"
    }
   ],
   "source": [
    "ex=np.array(Y_train[1]).reshape(1,1)\n",
    "ex"
   ]
  },
  {
   "cell_type": "code",
   "execution_count": 135,
   "metadata": {},
   "outputs": [
    {
     "data": {
      "text/plain": [
       "array([[0., 0., 1., 0., 0., 0., 0., 0., 0., 0.]], dtype=float32)"
      ]
     },
     "execution_count": 135,
     "metadata": {},
     "output_type": "execute_result"
    }
   ],
   "source": [
    "#Output will be in this form for Ytrain[1]=0\n",
    "#example_out= [1,0,0,0,0,0,0,0,0,0]\n",
    "example_out = np.zeros((len(ex),10), np.float32)\n",
    "example_out[range(example_out.shape[0]),ex] = 1\n",
    "example_out"
   ]
  },
  {
   "cell_type": "code",
   "execution_count": 136,
   "metadata": {},
   "outputs": [],
   "source": [
    "#forward and backward pass\n",
    "def forward_backward_pass(x,y):\n",
    "    targets = np.zeros((len(y),10), np.float32)\n",
    "    targets[range(targets.shape[0]),y] = 1\n",
    " \n",
    "    \n",
    "    x_l1=x.dot(l1)\n",
    "    x_sigmoid=sigmoid(x_l1)\n",
    "    x_l2=x_sigmoid.dot(l2)\n",
    "    out=softmax(x_l2)\n",
    "   \n",
    " \n",
    "    error=2*(out-targets)/out.shape[0]*d_softmax(x_l2)\n",
    "    update_l2=x_sigmoid.T@error\n",
    "    \n",
    "    \n",
    "    error=((l2).dot(error.T)).T*d_sigmoid(x_l1)\n",
    "    update_l1=x.T@error\n",
    "\n",
    "    return out,update_l1,update_l2 \n"
   ]
  },
  {
   "cell_type": "code",
   "execution_count": null,
   "metadata": {},
   "outputs": [],
   "source": []
  },
  {
   "cell_type": "code",
   "execution_count": 137,
   "metadata": {},
   "outputs": [
    {
     "name": "stdout",
     "output_type": "stream",
     "text": [
      "For 0th epoch: train accuracy: 0.117 | validation accuracy:0.097 | training loss:16.281\n",
      "For 100th epoch: train accuracy: 0.211 | validation accuracy:0.184 | training loss:15.656\n",
      "For 200th epoch: train accuracy: 0.211 | validation accuracy:0.214 | training loss:12.523\n",
      "For 300th epoch: train accuracy: 0.234 | validation accuracy:0.229 | training loss:14.172\n",
      "For 400th epoch: train accuracy: 0.227 | validation accuracy:0.244 | training loss:15.117\n",
      "For 500th epoch: train accuracy: 0.281 | validation accuracy:0.256 | training loss:11.922\n",
      "For 600th epoch: train accuracy: 0.258 | validation accuracy:0.274 | training loss:12.219\n",
      "For 700th epoch: train accuracy: 0.273 | validation accuracy:0.286 | training loss:11.234\n",
      "For 800th epoch: train accuracy: 0.336 | validation accuracy:0.302 | training loss:11.516\n",
      "For 900th epoch: train accuracy: 0.320 | validation accuracy:0.320 | training loss:10.258\n",
      "For 1000th epoch: train accuracy: 0.328 | validation accuracy:0.332 | training loss:12.406\n",
      "For 1100th epoch: train accuracy: 0.406 | validation accuracy:0.347 | training loss:10.555\n",
      "For 1200th epoch: train accuracy: 0.344 | validation accuracy:0.365 | training loss:9.375\n",
      "For 1300th epoch: train accuracy: 0.422 | validation accuracy:0.385 | training loss:9.266\n",
      "For 1400th epoch: train accuracy: 0.484 | validation accuracy:0.401 | training loss:9.219\n",
      "For 1500th epoch: train accuracy: 0.430 | validation accuracy:0.415 | training loss:9.703\n",
      "For 1600th epoch: train accuracy: 0.438 | validation accuracy:0.430 | training loss:11.242\n",
      "For 1700th epoch: train accuracy: 0.445 | validation accuracy:0.449 | training loss:10.094\n",
      "For 1800th epoch: train accuracy: 0.555 | validation accuracy:0.467 | training loss:6.625\n",
      "For 1900th epoch: train accuracy: 0.508 | validation accuracy:0.483 | training loss:8.523\n",
      "For 2000th epoch: train accuracy: 0.516 | validation accuracy:0.501 | training loss:8.656\n",
      "For 2100th epoch: train accuracy: 0.523 | validation accuracy:0.522 | training loss:7.367\n",
      "For 2200th epoch: train accuracy: 0.562 | validation accuracy:0.539 | training loss:6.625\n",
      "For 2300th epoch: train accuracy: 0.633 | validation accuracy:0.557 | training loss:5.188\n",
      "For 2400th epoch: train accuracy: 0.648 | validation accuracy:0.571 | training loss:4.945\n",
      "For 2500th epoch: train accuracy: 0.656 | validation accuracy:0.587 | training loss:4.117\n",
      "For 2600th epoch: train accuracy: 0.703 | validation accuracy:0.603 | training loss:5.430\n",
      "For 2700th epoch: train accuracy: 0.672 | validation accuracy:0.618 | training loss:4.836\n",
      "For 2800th epoch: train accuracy: 0.617 | validation accuracy:0.635 | training loss:5.992\n",
      "For 2900th epoch: train accuracy: 0.680 | validation accuracy:0.649 | training loss:3.281\n",
      "For 3000th epoch: train accuracy: 0.688 | validation accuracy:0.666 | training loss:5.070\n",
      "For 3100th epoch: train accuracy: 0.719 | validation accuracy:0.679 | training loss:3.875\n",
      "For 3200th epoch: train accuracy: 0.727 | validation accuracy:0.693 | training loss:4.656\n",
      "For 3300th epoch: train accuracy: 0.766 | validation accuracy:0.707 | training loss:3.516\n",
      "For 3400th epoch: train accuracy: 0.734 | validation accuracy:0.716 | training loss:4.781\n",
      "For 3500th epoch: train accuracy: 0.727 | validation accuracy:0.732 | training loss:3.680\n",
      "For 3600th epoch: train accuracy: 0.703 | validation accuracy:0.740 | training loss:4.094\n",
      "For 3700th epoch: train accuracy: 0.734 | validation accuracy:0.745 | training loss:4.547\n",
      "For 3800th epoch: train accuracy: 0.773 | validation accuracy:0.758 | training loss:4.734\n",
      "For 3900th epoch: train accuracy: 0.742 | validation accuracy:0.765 | training loss:3.312\n",
      "For 4000th epoch: train accuracy: 0.812 | validation accuracy:0.770 | training loss:2.734\n",
      "For 4100th epoch: train accuracy: 0.812 | validation accuracy:0.774 | training loss:3.492\n",
      "For 4200th epoch: train accuracy: 0.766 | validation accuracy:0.780 | training loss:3.539\n",
      "For 4300th epoch: train accuracy: 0.789 | validation accuracy:0.791 | training loss:3.602\n",
      "For 4400th epoch: train accuracy: 0.812 | validation accuracy:0.797 | training loss:2.008\n",
      "For 4500th epoch: train accuracy: 0.797 | validation accuracy:0.803 | training loss:3.125\n",
      "For 4600th epoch: train accuracy: 0.750 | validation accuracy:0.806 | training loss:4.328\n",
      "For 4700th epoch: train accuracy: 0.820 | validation accuracy:0.809 | training loss:4.094\n",
      "For 4800th epoch: train accuracy: 0.766 | validation accuracy:0.810 | training loss:3.805\n",
      "For 4900th epoch: train accuracy: 0.781 | validation accuracy:0.817 | training loss:3.992\n",
      "For 5000th epoch: train accuracy: 0.789 | validation accuracy:0.818 | training loss:3.828\n",
      "For 5100th epoch: train accuracy: 0.859 | validation accuracy:0.818 | training loss:1.672\n",
      "For 5200th epoch: train accuracy: 0.766 | validation accuracy:0.825 | training loss:3.859\n",
      "For 5300th epoch: train accuracy: 0.781 | validation accuracy:0.829 | training loss:3.555\n",
      "For 5400th epoch: train accuracy: 0.867 | validation accuracy:0.832 | training loss:2.586\n",
      "For 5500th epoch: train accuracy: 0.797 | validation accuracy:0.828 | training loss:3.805\n",
      "For 5600th epoch: train accuracy: 0.773 | validation accuracy:0.832 | training loss:3.906\n",
      "For 5700th epoch: train accuracy: 0.875 | validation accuracy:0.833 | training loss:2.539\n",
      "For 5800th epoch: train accuracy: 0.797 | validation accuracy:0.833 | training loss:2.688\n",
      "For 5900th epoch: train accuracy: 0.852 | validation accuracy:0.838 | training loss:1.633\n",
      "For 6000th epoch: train accuracy: 0.797 | validation accuracy:0.838 | training loss:2.547\n",
      "For 6100th epoch: train accuracy: 0.836 | validation accuracy:0.838 | training loss:1.711\n",
      "For 6200th epoch: train accuracy: 0.820 | validation accuracy:0.838 | training loss:2.039\n",
      "For 6300th epoch: train accuracy: 0.820 | validation accuracy:0.838 | training loss:2.305\n",
      "For 6400th epoch: train accuracy: 0.875 | validation accuracy:0.837 | training loss:2.109\n",
      "For 6500th epoch: train accuracy: 0.812 | validation accuracy:0.838 | training loss:3.156\n",
      "For 6600th epoch: train accuracy: 0.836 | validation accuracy:0.837 | training loss:3.094\n",
      "For 6700th epoch: train accuracy: 0.797 | validation accuracy:0.843 | training loss:3.227\n",
      "For 6800th epoch: train accuracy: 0.836 | validation accuracy:0.836 | training loss:2.922\n",
      "For 6900th epoch: train accuracy: 0.812 | validation accuracy:0.839 | training loss:2.703\n"
     ]
    }
   ],
   "source": [
    "\n",
    "epochs=7000\n",
    "lr=0.001\n",
    "batch=128\n",
    "losses,accuracies,val_accuracies=[],[],[]\n",
    "\n",
    "for i in range(epochs):\n",
    "    sample=np.random.randint(0,X_train.shape[0],size=(batch))\n",
    "    x=X_train[sample].reshape((-1,28*28))\n",
    "    y=Y_train[sample]\n",
    " \n",
    "\n",
    "    out,update_l1,update_l2=forward_backward_pass(x,y)\n",
    "  \n",
    "    category=np.argmax(out,axis=1)\n",
    "    accuracy=(category==y).mean()\n",
    "    accuracies.append(accuracy)\n",
    "    \n",
    "    loss=((category-y)**2).mean()\n",
    "    losses.append(loss.item())\n",
    "    \n",
    "    l1=l1-lr*update_l1\n",
    "    l2=l2-lr*update_l2\n",
    "    \n",
    "    if(i%10==0):    \n",
    "        X_val=X_val.reshape((-1,28*28))\n",
    "        val_out=np.argmax(softmax(sigmoid(X_val.dot(l1)).dot(l2)),axis=1)\n",
    "        val_acc=(val_out==Y_val).mean()\n",
    "        val_accuracies.append(val_acc.item())\n",
    "    if(i%100==0): \n",
    "        print(f'For {i}th epoch: train accuracy: {accuracy:.3f} | validation accuracy:{val_acc:.3f} | training loss:{loss:.3f}')\n",
    "        \n",
    "        \n"
   ]
  },
  {
   "cell_type": "markdown",
   "metadata": {},
   "source": [
    "# # Accuraccies plot per epoch"
   ]
  },
  {
   "cell_type": "code",
   "execution_count": 138,
   "metadata": {},
   "outputs": [
    {
     "data": {
      "text/plain": [
       "[<matplotlib.lines.Line2D at 0x7fdf1344af70>]"
      ]
     },
     "execution_count": 138,
     "metadata": {},
     "output_type": "execute_result"
    },
    {
     "data": {
      "image/png": "[encoded data removed]",
      "text/plain": [
       "<Figure size 432x288 with 1 Axes>"
      ]
     },
     "metadata": {
      "needs_background": "light"
     },
     "output_type": "display_data"
    }
   ],
   "source": [
    "plt.title('Training accruracy per epoch')\n",
    "plt.ylim(-0.1, 1.1)\n",
    "plt.plot(accuracies)\n"
   ]
  },
  {
   "cell_type": "markdown",
   "metadata": {},
   "source": [
    "# # validation accuracies per epoch"
   ]
  },
  {
   "cell_type": "code",
   "execution_count": 139,
   "metadata": {},
   "outputs": [
    {
     "data": {
      "text/plain": [
       "[<matplotlib.lines.Line2D at 0x7fdf133aee20>]"
      ]
     },
     "execution_count": 139,
     "metadata": {},
     "output_type": "execute_result"
    },
    {
     "data": {
      "image/png": "[encoded data removed]",
      "text/plain": [
       "<Figure size 432x288 with 1 Axes>"
      ]
     },
     "metadata": {
      "needs_background": "light"
     },
     "output_type": "display_data"
    }
   ],
   "source": [
    "plt.title('Validation accruracy per epoch')\n",
    "\n",
    "plt.plot(val_accuracies)"
   ]
  },
  {
   "cell_type": "code",
   "execution_count": 117,
   "metadata": {},
   "outputs": [
    {
     "data": {
      "text/plain": [
       "[<matplotlib.lines.Line2D at 0x7fdf1372cc10>]"
      ]
     },
     "execution_count": 117,
     "metadata": {},
     "output_type": "execute_result"
    },
    {
     "data": {
      "image/png": "[encoded data removed]",
      "text/plain": [
       "<Figure size 432x288 with 1 Axes>"
      ]
     },
     "metadata": {
      "needs_background": "light"
     },
     "output_type": "display_data"
    }
   ],
   "source": [
    "plt.title('training loss per epoch')\n",
    "\n",
    "plt.plot(losses)"
   ]
  },
  {
   "cell_type": "code",
   "execution_count": 118,
   "metadata": {},
   "outputs": [
    {
     "name": "stdout",
     "output_type": "stream",
     "text": [
      "Test accuracy = 76.94%\n"
     ]
    }
   ],
   "source": [
    "test_out=np.argmax(softmax(sigmoid(X_test.dot(l1)).dot(l2)),axis=1)\n",
    "test_acc=(test_out==Y_test).mean().item()\n",
    "print(f'Test accuracy = {test_acc*100:.2f}%')"
   ]
  },
  {
   "cell_type": "markdown",
   "metadata": {},
   "source": [
    "## Testing Xtest data and real time matrix number"
   ]
  },
  {
   "cell_type": "markdown",
   "metadata": {},
   "source": [
    "### Real time matrix (7) number image"
   ]
  },
  {
   "cell_type": "code",
   "execution_count": 119,
   "metadata": {},
   "outputs": [
    {
     "data": {
      "text/plain": [
       "<matplotlib.image.AxesImage at 0x7fdf13717d60>"
      ]
     },
     "execution_count": 119,
     "metadata": {},
     "output_type": "execute_result"
    },
    {
     "data": {
      "image/png": "[encoded data removed]",
      "text/plain": [
       "<Figure size 432x288 with 1 Axes>"
      ]
     },
     "metadata": {
      "needs_background": "light"
     },
     "output_type": "display_data"
    }
   ],
   "source": [
    "m = [[0,0,0,0,0,0,0],\n",
    "     [0,10,10,10,10,0,0],\n",
    "     [0,0,0,0,10,0,0],\n",
    "     [0,0,0,0,10,0,0],\n",
    "     [0,0,0,0,10,0,0],\n",
    "     [0,0,0,0,10,0,0],\n",
    "     [0,0,0,0,0,0,0]]\n",
    "\n",
    "m = np.concatenate([np.concatenate([[x]*4 for x in y]*4) for y in m])\n",
    "m=m.reshape(1,-1)\n",
    "plt.title(\"Input test matrix image\")\n",
    "plt.imshow(m.reshape(28,28))\n",
    "\n",
    "# m.shape"
   ]
  },
  {
   "cell_type": "code",
   "execution_count": 120,
   "metadata": {},
   "outputs": [
    {
     "name": "stdout",
     "output_type": "stream",
     "text": [
      "The input test number is classifed as : 1\n"
     ]
    }
   ],
   "source": [
    "x2 = (sigmoid(m.dot(l1)).dot(l2))\n",
    "x3=(np.argmax(x2))\n",
    "# print(x2)\n",
    "print(\"The input test number is classifed as :\",x3)"
   ]
  },
  {
   "cell_type": "markdown",
   "metadata": {},
   "source": [
    "## Testing of Xtest image"
   ]
  },
  {
   "cell_type": "code",
   "execution_count": 121,
   "metadata": {},
   "outputs": [
    {
     "data": {
      "text/plain": [
       "array([4])"
      ]
     },
     "execution_count": 121,
     "metadata": {},
     "output_type": "execute_result"
    },
    {
     "data": {
      "image/png": "[encoded data removed]",
      "text/plain": [
       "<Figure size 432x288 with 1 Axes>"
      ]
     },
     "metadata": {
      "needs_background": "light"
     },
     "output_type": "display_data"
    }
   ],
   "source": [
    "w=X_test1[4]\n",
    "m = np.concatenate([np.concatenate([[x] for x in y]) for y in w])\n",
    "m=m.reshape(1,-1)\n",
    "plt.imshow(m.reshape(28,28))\n",
    "x = np.argmax(sigmoid(m.dot(l1)).dot(l2),axis=1)\n",
    "x"
   ]
  },
  {
   "cell_type": "code",
   "execution_count": 117,
   "metadata": {},
   "outputs": [
    {
     "data": {
      "text/plain": [
       "array([0])"
      ]
     },
     "execution_count": 117,
     "metadata": {},
     "output_type": "execute_result"
    },
    {
     "data": {
      "image/png": "[encoded data removed]",
      "text/plain": [
       "<Figure size 432x288 with 1 Axes>"
      ]
     },
     "metadata": {
      "needs_background": "light"
     },
     "output_type": "display_data"
    }
   ],
   "source": [
    "w=X_test1[10]\n",
    "m = np.concatenate([np.concatenate([[x] for x in y]) for y in w])\n",
    "m=m.reshape(1,-1)\n",
    "plt.imshow(m.reshape(28,28))\n",
    "x = np.argmax(sigmoid(m.dot(l1)).dot(l2),axis=1)\n",
    "x"
   ]
  },
  {
   "cell_type": "code",
   "execution_count": null,
   "metadata": {},
   "outputs": [],
   "source": []
  },
  {
   "cell_type": "code",
   "execution_count": null,
   "metadata": {},
   "outputs": [],
   "source": []
  },
  {
   "cell_type": "code",
   "execution_count": null,
   "metadata": {},
   "outputs": [],
   "source": []
  }
 ],
 "metadata": {
  "kernelspec": {
   "display_name": "Python 3 (ipykernel)",
   "language": "python",
   "name": "python3"
  },
  "language_info": {
   "codemirror_mode": {
    "name": "ipython",
    "version": 3
   },
   "file_extension": ".py",
   "mimetype": "text/x-python",
   "name": "python",
   "nbconvert_exporter": "python",
   "pygments_lexer": "ipython3",
   "version": "3.9.7"
  }
 },
 "nbformat": 4,
 "nbformat_minor": 4
}
